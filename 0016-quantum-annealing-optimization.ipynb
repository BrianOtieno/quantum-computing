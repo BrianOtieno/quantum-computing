{
 "cells": [
  {
   "cell_type": "markdown",
   "metadata": {},
   "source": [
    "### Quantum Annealing "
   ]
  },
  {
   "cell_type": "markdown",
   "metadata": {},
   "source": [
    "Quantum annealing is a method for finding the optimal solution to problems with many possible solutions by using quantum physics to explore the energy landscape of the problem. It finds the lowest energy state, which corresponds to the optimal solution."
   ]
  },
  {
   "cell_type": "code",
   "execution_count": 2,
   "metadata": {},
   "outputs": [],
   "source": [
    "# Import necessary libraries\n",
    "import numpy as np\n",
    "from qiskit import QuantumCircuit, transpile\n",
    "from qiskit_aer import AerSimulator\n",
    "from qiskit_optimization import QuadraticProgram\n",
    "from qiskit_optimization.algorithms import MinimumEigenOptimizer\n",
    "from qiskit_optimization.converters import QuadraticProgramToQubo\n",
    "from qiskit_algorithms import QAOA\n",
    "from qiskit_algorithms.optimizers import COBYLA\n",
    "from qiskit.primitives import Sampler\n",
    "from qiskit.visualization import plot_histogram\n",
    "import matplotlib.pyplot as plt\n",
    "\n",
    "%matplotlib inline"
   ]
  },
  {
   "cell_type": "code",
   "execution_count": 3,
   "metadata": {},
   "outputs": [
    {
     "data": {
      "text/plain": [
       "<LinearConstraint: x1 + x2 <= 1 'c0'>"
      ]
     },
     "execution_count": 3,
     "metadata": {},
     "output_type": "execute_result"
    }
   ],
   "source": [
    "# Define a simple optimization problem: Maximize x1 + 2*x2 subject to x1 + x2 <= 1\n",
    "qp = QuadraticProgram()\n",
    "qp.binary_var('x1')\n",
    "qp.binary_var('x2')\n",
    "qp.maximize(linear={'x1': 1, 'x2': 2})\n",
    "qp.linear_constraint({'x1': 1, 'x2': 1}, '<=', 1)"
   ]
  },
  {
   "cell_type": "code",
   "execution_count": 4,
   "metadata": {},
   "outputs": [],
   "source": [
    "# Convert the problem to QUBO form\n",
    "conv = QuadraticProgramToQubo()\n",
    "qubo = conv.convert(qp)"
   ]
  },
  {
   "cell_type": "code",
   "execution_count": 5,
   "metadata": {},
   "outputs": [],
   "source": [
    "# Set up the Aer simulator backend\n",
    "simulator = AerSimulator()"
   ]
  },
  {
   "cell_type": "code",
   "execution_count": 6,
   "metadata": {},
   "outputs": [],
   "source": [
    "# Define the QAOA instance\n",
    "optimizer = COBYLA(maxiter=100)\n",
    "sampler = Sampler()\n",
    "qaoa = QAOA(optimizer=optimizer, reps=1, sampler=sampler)"
   ]
  },
  {
   "cell_type": "code",
   "execution_count": 7,
   "metadata": {},
   "outputs": [],
   "source": [
    "# Create the MinimumEigenOptimizer using QAOA\n",
    "qaoa_optimizer = MinimumEigenOptimizer(qaoa)"
   ]
  },
  {
   "cell_type": "code",
   "execution_count": 8,
   "metadata": {},
   "outputs": [
    {
     "name": "stdout",
     "output_type": "stream",
     "text": [
      "fval=-2.0, x1=0.0, x2=1.0, status=SUCCESS\n"
     ]
    }
   ],
   "source": [
    "# Solve the optimization problem\n",
    "result = qaoa_optimizer.solve(qubo)\n",
    "print(result)"
   ]
  },
  {
   "cell_type": "code",
   "execution_count": 9,
   "metadata": {},
   "outputs": [
    {
     "name": "stdout",
     "output_type": "stream",
     "text": [
      "Optimal solution: x1 = 0.0, x2 = 1.0\n"
     ]
    }
   ],
   "source": [
    "# Extract the optimal solution\n",
    "optimal_solution = result.x\n",
    "print(f\"Optimal solution: x1 = {optimal_solution[0]}, x2 = {optimal_solution[1]}\")"
   ]
  },
  {
   "cell_type": "code",
   "execution_count": 10,
   "metadata": {},
   "outputs": [],
   "source": [
    "# Visualize the final state\n",
    "# Create the QAOA circuit with optimized parameters\n",
    "optimal_params = result.min_eigen_solver_result.optimal_point"
   ]
  },
  {
   "cell_type": "code",
   "execution_count": 11,
   "metadata": {},
   "outputs": [
    {
     "data": {
      "text/plain": [
       "CircuitInstruction(operation=Instruction(name='barrier', num_qubits=2, num_clbits=0, params=[]), qubits=(Qubit(QuantumRegister(2, 'q'), 0), Qubit(QuantumRegister(2, 'q'), 1)), clbits=())"
      ]
     },
     "execution_count": 11,
     "metadata": {},
     "output_type": "execute_result"
    }
   ],
   "source": [
    "# Re-create the QAOA circuit with optimal parameters\n",
    "num_qubits = qubo.get_num_binary_vars()\n",
    "qaoa_ansatz = QuantumCircuit(num_qubits)\n",
    "qaoa_ansatz.h(range(num_qubits))\n",
    "qaoa_ansatz.barrier()"
   ]
  },
  {
   "cell_type": "code",
   "execution_count": 12,
   "metadata": {},
   "outputs": [
    {
     "data": {
      "text/plain": [
       "CircuitInstruction(operation=Instruction(name='barrier', num_qubits=2, num_clbits=0, params=[]), qubits=(Qubit(QuantumRegister(2, 'q'), 0), Qubit(QuantumRegister(2, 'q'), 1)), clbits=())"
      ]
     },
     "execution_count": 12,
     "metadata": {},
     "output_type": "execute_result"
    }
   ],
   "source": [
    "# Add the QAOA cost Hamiltonian (using a simple example for demonstration)\n",
    "for i in range(num_qubits):\n",
    "    qaoa_ansatz.rz(optimal_params[0], i)\n",
    "qaoa_ansatz.barrier()"
   ]
  },
  {
   "cell_type": "code",
   "execution_count": 13,
   "metadata": {},
   "outputs": [
    {
     "data": {
      "text/plain": [
       "CircuitInstruction(operation=Instruction(name='barrier', num_qubits=2, num_clbits=0, params=[]), qubits=(Qubit(QuantumRegister(2, 'q'), 0), Qubit(QuantumRegister(2, 'q'), 1)), clbits=())"
      ]
     },
     "execution_count": 13,
     "metadata": {},
     "output_type": "execute_result"
    }
   ],
   "source": [
    "# Add the QAOA mixer Hamiltonian\n",
    "for i in range(num_qubits):\n",
    "    qaoa_ansatz.rx(optimal_params[1], i)\n",
    "qaoa_ansatz.barrier()"
   ]
  },
  {
   "cell_type": "code",
   "execution_count": 14,
   "metadata": {},
   "outputs": [
    {
     "data": {
      "image/png": "[encoded data removed]",
      "text/plain": [
       "<Figure size 621.739x200.667 with 1 Axes>"
      ]
     },
     "metadata": {},
     "output_type": "display_data"
    }
   ],
   "source": [
    "# Transpile and visualize the circuit\n",
    "qaoa_ansatz = transpile(qaoa_ansatz, simulator)\n",
    "qaoa_ansatz.draw('mpl')\n",
    "plt.show()"
   ]
  },
  {
   "cell_type": "code",
   "execution_count": null,
   "metadata": {},
   "outputs": [],
   "source": [
    "# Simulate the final state\n",
    "# transpiled_circuit = transpile(qaoa_ansatz, simulator)\n",
    "# final_result = simulator.run(transpiled_circuit, shots=1024).result()\n",
    "# counts = final_result.get_counts(transpiled_circuit)\n",
    "# plot_histogram(counts)\n",
    "# plt.show()\n"
   ]
  }
 ],
 "metadata": {
  "kernelspec": {
   "display_name": "qiskit",
   "language": "python",
   "name": "python3"
  },
  "language_info": {
   "codemirror_mode": {
    "name": "ipython",
    "version": 3
   },
   "file_extension": ".py",
   "mimetype": "text/x-python",
   "name": "python",
   "nbconvert_exporter": "python",
   "pygments_lexer": "ipython3",
   "version": "3.12.4"
  }
 },
 "nbformat": 4,
 "nbformat_minor": 2
}
