{
 "cells": [
  {
   "cell_type": "markdown",
   "metadata": {},
   "source": [
    "## Quantum Chemistry Simulation for Symmetry-Adapted Quantum Circuits \n",
    "\n",
    "Quantum Chemistry Simulation for symmetry-adapted quantum circuits is a cutting-edge approach that leverages symmetries in molecular systems to optimize quantum simulations. These symmetries, present in the molecular Hamiltonians, often go unutilized in standard quantum circuits. However, by constructing quantum circuits that respect these inherent symmetries, the complexity of the simulation can be significantly reduced. This method offers a highly efficient way to simulate larger molecular systems on quantum computers by limiting the quantum operations to symmetry-preserving states.\n",
    "\n",
    "Symmetry-adapted circuits capitalize on group-theoretical techniques, identifying symmetries such as particle number conservation, spin, and spatial symmetries. For instance, when simulating a molecule with rotational symmetries, incorporating these into the quantum circuit reduces the computational load by constraining the circuit to only explore relevant subspaces of the Hilbert space. In essence, this technique removes unnecessary redundancies, allowing quantum hardware to focus on the most critical parts of the simulation.\n",
    "\n",
    "The benefits extend beyond mere computational efficiency. By maintaining these symmetries throughout the quantum simulation, accuracy can improve. Traditional circuits may inadvertently break these symmetries, introducing errors that propagate through the computation. In contrast, symmetry-adapted circuits ensure the preservation of physical constraints, leading to more reliable results in electronic structure calculations.\n",
    "\n",
    "A practical implementation of symmetry-adapted quantum circuits begins with identifying the molecular Hamiltonian symmetries using tools like irreducible representations. These symmetries then guide the construction of quantum circuits, ensuring that the number of qubits and the depth of the circuits are minimized. This methodology finds applications in areas like quantum chemistry and materials science, where simulating complex molecular interactions with high precision is crucial.\n",
    "\n",
    "Symmetry-adapted circuits will play an increasingly prominent role, particularly as quantum hardware scales and more intricate molecules need simulation. The combination of quantum chemistry principles with quantum circuit optimization paves the way for breakthroughs in fields requiring precise simulations of molecular behavior."
   ]
  },
  {
   "cell_type": "code",
   "execution_count": 1,
   "metadata": {},
   "outputs": [],
   "source": [
    "import numpy as np\n",
    "from qiskit import QuantumCircuit, transpile\n",
    "from qiskit.quantum_info import SparsePauliOp\n",
    "from qiskit_aer import AerSimulator\n",
    "from qiskit.circuit.library import EfficientSU2\n",
    "from qiskit.primitives import Estimator\n",
    "from qiskit.visualization import plot_histogram\n",
    "from qiskit_algorithms.optimizers import COBYLA\n",
    "import matplotlib.pyplot as plt\n",
    "\n",
    "%matplotlib inline "
   ]
  },
  {
   "cell_type": "code",
   "execution_count": 2,
   "metadata": {},
   "outputs": [],
   "source": [
    "# Define the symmetry-adapted Hamiltonian\n",
    "h_pauli_terms = {\n",
    "    \"II\": -1.052373245772859,\n",
    "    \"IZ\": 0.39793742484318045,\n",
    "    \"ZI\": -0.39793742484318045,\n",
    "    \"ZZ\": -0.01128010425623538,\n",
    "    \"XX\": 0.18093119978423156,\n",
    "}"
   ]
  },
  {
   "cell_type": "code",
   "execution_count": 3,
   "metadata": {},
   "outputs": [],
   "source": [
    "# Create the Hamiltonian as a SparsePauliOp\n",
    "pauli_op_list = [(pauli_str, coef) for pauli_str, coef in h_pauli_terms.items()]\n",
    "hamiltonian = SparsePauliOp.from_list(pauli_op_list)"
   ]
  },
  {
   "cell_type": "code",
   "execution_count": 4,
   "metadata": {},
   "outputs": [],
   "source": [
    "# Define a symmetry-adapted quantum circuit (2-qubit system)\n",
    "def create_symmetry_adapted_circuit(num_qubits, params):\n",
    "    qc = QuantumCircuit(num_qubits)\n",
    "    \n",
    "    # Symmetry-adapted initial state\n",
    "    qc.h(0)\n",
    "    qc.cx(0, 1)\n",
    "\n",
    "    # Apply parameterized gates\n",
    "    qc.ry(params[0], 0)\n",
    "    qc.ry(params[1], 1)\n",
    "\n",
    "    # Entangling gates\n",
    "    qc.cx(0, 1)\n",
    "\n",
    "    return qc"
   ]
  },
  {
   "cell_type": "code",
   "execution_count": 5,
   "metadata": {},
   "outputs": [],
   "source": [
    "# Define parameters for the circuit\n",
    "params = np.random.random(2)"
   ]
  },
  {
   "cell_type": "code",
   "execution_count": 6,
   "metadata": {},
   "outputs": [],
   "source": [
    "# Generate the symmetry-adapted quantum circuit\n",
    "symmetry_circuit = create_symmetry_adapted_circuit(2, params)"
   ]
  },
  {
   "cell_type": "code",
   "execution_count": 7,
   "metadata": {},
   "outputs": [
    {
     "data": {
      "image/png": "[encoded data removed]",
      "text/plain": [
       "<Figure size 454.517x200.667 with 1 Axes>"
      ]
     },
     "metadata": {},
     "output_type": "display_data"
    }
   ],
   "source": [
    "# Visualize the symmetry-adapted quantum circuit\n",
    "symmetry_circuit.draw('mpl')\n",
    "plt.show()"
   ]
  },
  {
   "cell_type": "code",
   "execution_count": 8,
   "metadata": {},
   "outputs": [],
   "source": [
    "# VQE for electronic structure problem (without measurement for statevector)\n",
    "estimator = Estimator()  # Create an estimator object\n",
    "ansatz = EfficientSU2(num_qubits=2, entanglement='linear')  # Define the ansatz circuit"
   ]
  },
  {
   "cell_type": "code",
   "execution_count": 9,
   "metadata": {},
   "outputs": [],
   "source": [
    "# Define an optimizer with max iterations\n",
    "optimizer = COBYLA(maxiter=100)"
   ]
  },
  {
   "cell_type": "code",
   "execution_count": 10,
   "metadata": {},
   "outputs": [],
   "source": [
    "# Run VQE using AerSimulator\n",
    "simulator = AerSimulator()  # Use AerSimulator"
   ]
  },
  {
   "cell_type": "code",
   "execution_count": 11,
   "metadata": {},
   "outputs": [],
   "source": [
    "symmetry_circuit = transpile(symmetry_circuit, simulator)  # Transpile for the simulator"
   ]
  },
  {
   "cell_type": "code",
   "execution_count": 12,
   "metadata": {},
   "outputs": [],
   "source": [
    "# Separate run for circuit with measurement \n",
    "measured_circuit = create_symmetry_adapted_circuit(2, params)\n",
    "measured_circuit.measure_all()  # Add measurement to all"
   ]
  },
  {
   "cell_type": "code",
   "execution_count": 13,
   "metadata": {},
   "outputs": [],
   "source": [
    "# Run the circuit with measurements (note this is a separate run)\n",
    "measured_job = simulator.run(measured_circuit)\n",
    "measured_result = measured_job.result()"
   ]
  },
  {
   "cell_type": "code",
   "execution_count": 14,
   "metadata": {},
   "outputs": [
    {
     "data": {
      "image/png": "[encoded data removed]",
      "text/plain": [
       "<Figure size 640x480 with 1 Axes>"
      ]
     },
     "metadata": {},
     "output_type": "display_data"
    }
   ],
   "source": [
    "# Get and visualize the counts (histogram)\n",
    "counts = measured_result.get_counts()\n",
    "plot_histogram(counts)\n",
    "plt.show()"
   ]
  }
 ],
 "metadata": {
  "kernelspec": {
   "display_name": "qiskit",
   "language": "python",
   "name": "python3"
  },
  "language_info": {
   "codemirror_mode": {
    "name": "ipython",
    "version": 3
   },
   "file_extension": ".py",
   "mimetype": "text/x-python",
   "name": "python",
   "nbconvert_exporter": "python",
   "pygments_lexer": "ipython3",
   "version": "3.12.4"
  }
 },
 "nbformat": 4,
 "nbformat_minor": 2
}
