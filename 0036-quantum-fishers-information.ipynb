{
 "cells": [
  {
   "cell_type": "markdown",
   "metadata": {},
   "source": [
    "### The Quantum Fisher Information (QFI)\n",
    "\n",
    "One of the key tools in Quantum Metrology where ultra-precise measurements are required, such as in gravitational wave detection or high-precision clocks, is Quantum Fisher Information (QFI), which quantifies the amount of information that a quantum state carries about a parameter to be estimated. The QFI is crucial for understanding the limits of precision in quantum measurements and plays a vital role in determining the sensitivity of quantum sensors.\n",
    "\n",
    "Quantum Fisher Information (QFI) is a cornerstone concept in quantum metrology and plays a pivotal role in enhancing the precision of parameter estimation, which is critical for a wide array of quantum technologies. By quantifying how much information a quantum state carries about an unknown parameter, QFI allows us to determine the ultimate precision limits that can be achieved when estimating this parameter. This is particularly important in scenarios where quantum states are used to probe physical systems, making QFI a key player in optimizing quantum sensors and improving measurement accuracy beyond classical limits.\n",
    "\n",
    "The QFI is intrinsically linked to the geometry of quantum states. It measures the sensitivity of a quantum state to changes in a parameter, with higher QFI indicating greater sensitivity. This relationship can be understood through the lens of the quantum Cramér-Rao bound, which provides a lower bound on the variance of any unbiased estimator of the parameter. Thus, the QFI sets a fundamental limit on the precision of any estimation process, guiding the design and implementation of quantum experiments.\n",
    "\n",
    "In the context of quantum computing, QFI finds applications in various advanced algorithms and protocols. For instance, in quantum machine learning, QFI can be used to optimize variational algorithms by identifying optimal quantum states that are most sensitive to the parameters being trained. Additionally, in quantum sensing, QFI helps in designing protocols that can achieve the highest possible sensitivity, making it invaluable in fields such as gravitational wave detection, where detecting minute signals is crucial.\n",
    "\n",
    "Furthermore, QFI is not just theoretical; it is also implementable in quantum circuits using tools like Qiskit. One can construct circuits that calculate QFI by leveraging quantum gates and measurements tailored to the specific parameter of interest. This practical approach enables researchers to simulate and analyze the behavior of quantum systems under different conditions, providing insights into how best to extract information from quantum states.\n",
    "\n",
    "As quantum technology continues to advance, the importance of QFI will only grow, particularly in fields that demand high-precision measurements. Future developments may see the integration of QFI-based techniques into real-world quantum sensors and computing devices, pushing the boundaries of what can be measured and computed with unprecedented accuracy. The ongoing research into QFI is paving the way for breakthroughs in quantum-enhanced technologies, ensuring that we are better equipped to harness the full potential of quantum mechanics in practical applications.\n",
    "\n"
   ]
  },
  {
   "cell_type": "markdown",
   "metadata": {},
   "source": [
    "The Quantum Fisher Information (QFI) is given by:\n",
    "\n",
    "$$\n",
    "\\mathcal{F}(\\rho, \\hat{H}) = \\text{Tr} \\left[ \\rho \\left( \\frac{\\partial \\hat{H}}{\\partial \\theta} \\right)^2 \\right] - \\text{Tr} \\left[ \\rho \\frac{\\partial \\hat{H}}{\\partial \\theta} \\right]^2\n",
    "$$\n",
    "\n",
    "where:\n",
    "* $\\rho$ is the density matrix of the quantum state.\n",
    "* $\\hat{H}$ is the Hamiltonian or the generator of the parameter $\\theta$.\n",
    "* $\\text{Tr}$ denotes the trace operation.\n"
   ]
  },
  {
   "cell_type": "code",
   "execution_count": 1,
   "metadata": {},
   "outputs": [],
   "source": [
    "from qiskit import QuantumCircuit, transpile\n",
    "from qiskit_aer import AerSimulator\n",
    "from qiskit.circuit import Parameter\n",
    "from qiskit.quantum_info import Statevector\n",
    "from qiskit.visualization import plot_histogram, plot_bloch_multivector\n",
    "import numpy as np\n",
    "import matplotlib.pyplot as plt\n",
    "\n",
    "%matplotlib inline"
   ]
  },
  {
   "cell_type": "code",
   "execution_count": 2,
   "metadata": {},
   "outputs": [],
   "source": [
    "# Initialize simulator\n",
    "simulator = AerSimulator()"
   ]
  },
  {
   "cell_type": "code",
   "execution_count": 3,
   "metadata": {},
   "outputs": [],
   "source": [
    "# Define a parameterized phase angle\n",
    "theta = Parameter('θ')"
   ]
  },
  {
   "cell_type": "code",
   "execution_count": 4,
   "metadata": {},
   "outputs": [],
   "source": [
    "# Create a quantum circuit with 2 qubits\n",
    "qc = QuantumCircuit(2)"
   ]
  },
  {
   "cell_type": "code",
   "execution_count": 5,
   "metadata": {},
   "outputs": [
    {
     "data": {
      "text/plain": [
       "<qiskit.circuit.instructionset.InstructionSet at 0x11a2d7d00>"
      ]
     },
     "execution_count": 5,
     "metadata": {},
     "output_type": "execute_result"
    }
   ],
   "source": [
    "# Prepare the initial state\n",
    "qc.h(0)  # Hadamard gate on qubit 0\n",
    "qc.cx(0, 1)  # Create entanglement between qubit 0 and qubit 1"
   ]
  },
  {
   "cell_type": "code",
   "execution_count": 6,
   "metadata": {},
   "outputs": [
    {
     "data": {
      "text/plain": [
       "<qiskit.circuit.instructionset.InstructionSet at 0x11a328490>"
      ]
     },
     "execution_count": 6,
     "metadata": {},
     "output_type": "execute_result"
    }
   ],
   "source": [
    "# Apply the parameterized phase rotation\n",
    "qc.rz(theta, 1)"
   ]
  },
  {
   "cell_type": "code",
   "execution_count": 7,
   "metadata": {},
   "outputs": [
    {
     "data": {
      "text/plain": [
       "<qiskit.circuit.instructionset.InstructionSet at 0x11a328790>"
      ]
     },
     "execution_count": 7,
     "metadata": {},
     "output_type": "execute_result"
    }
   ],
   "source": [
    "# Apply another Hadamard gate before measurement\n",
    "qc.h(0)"
   ]
  },
  {
   "cell_type": "code",
   "execution_count": 8,
   "metadata": {},
   "outputs": [],
   "source": [
    "# Transpile the circuit for the simulator\n",
    "try:\n",
    "    compiled_circuit = transpile(qc, simulator)\n",
    "except transpile.TranspileError:\n",
    "    print(\"Transpilation failed! Check your circuit for compatibility issues.\")\n",
    "    exit()"
   ]
  },
  {
   "cell_type": "code",
   "execution_count": 9,
   "metadata": {},
   "outputs": [],
   "source": [
    "# Function to compute QFI using finite differences\n",
    "def finite_difference_qfi(circuit, theta_val, delta=1e-6):\n",
    "    # Substitute the parameter with a specific value\n",
    "    bound_qc_plus = circuit.assign_parameters({theta: theta_val + delta})\n",
    "    bound_qc_minus = circuit.assign_parameters({theta: theta_val - delta})\n",
    "\n",
    "    # Get statevectors for both cases\n",
    "    state_plus = Statevector.from_instruction(bound_qc_plus)\n",
    "    state_minus = Statevector.from_instruction(bound_qc_minus)\n",
    "\n",
    "    # Calculate the QFI using finite differences\n",
    "    qfi = 4 * (np.abs(state_plus.inner(state_minus) - state_minus.inner(state_plus)) / (2 * delta)) ** 2\n",
    "    return qfi"
   ]
  },
  {
   "cell_type": "code",
   "execution_count": 10,
   "metadata": {},
   "outputs": [],
   "source": [
    "# Calculate the Quantum Fisher Information for a range of theta values\n",
    "theta_vals = np.linspace(0, 2 * np.pi, 100)\n",
    "qfi_vals = [finite_difference_qfi(compiled_circuit, t) for t in theta_vals]"
   ]
  },
  {
   "cell_type": "code",
   "execution_count": 11,
   "metadata": {},
   "outputs": [
    {
     "data": {
      "image/png": "[encoded data removed]",
      "text/plain": [
       "<Figure size 640x480 with 1 Axes>"
      ]
     },
     "metadata": {},
     "output_type": "display_data"
    }
   ],
   "source": [
    "# Plot the QFI as a function of the phase parameter theta\n",
    "plt.plot(theta_vals, qfi_vals)\n",
    "plt.xlabel('Theta')\n",
    "plt.ylabel('Quantum Fisher Information')\n",
    "plt.title('QFI as a function of phase parameter θ')\n",
    "plt.show()"
   ]
  },
  {
   "cell_type": "code",
   "execution_count": 12,
   "metadata": {},
   "outputs": [],
   "source": [
    "# Bind a specific parameter value for the final simulation\n",
    "final_circuit = compiled_circuit.assign_parameters({theta: 0})"
   ]
  },
  {
   "cell_type": "code",
   "execution_count": 13,
   "metadata": {},
   "outputs": [],
   "source": [
    "# Add measurements to the final circuit\n",
    "final_circuit.measure_all()"
   ]
  },
  {
   "cell_type": "code",
   "execution_count": 14,
   "metadata": {},
   "outputs": [],
   "source": [
    "# Simulate and measure the circuit\n",
    "result = simulator.run(final_circuit).result()"
   ]
  },
  {
   "cell_type": "code",
   "execution_count": 15,
   "metadata": {},
   "outputs": [
    {
     "data": {
      "image/png": "[encoded data removed]",
      "text/plain": [
       "<Figure size 640x480 with 1 Axes>"
      ]
     },
     "metadata": {},
     "output_type": "display_data"
    }
   ],
   "source": [
    "# Extract and plot the measurement results\n",
    "counts = result.get_counts()\n",
    "plot_histogram(counts)\n",
    "plt.show() "
   ]
  }
 ],
 "metadata": {
  "kernelspec": {
   "display_name": "qiskit",
   "language": "python",
   "name": "python3"
  },
  "language_info": {
   "codemirror_mode": {
    "name": "ipython",
    "version": 3
   },
   "file_extension": ".py",
   "mimetype": "text/x-python",
   "name": "python",
   "nbconvert_exporter": "python",
   "pygments_lexer": "ipython3",
   "version": "3.12.4"
  }
 },
 "nbformat": 4,
 "nbformat_minor": 2
}
