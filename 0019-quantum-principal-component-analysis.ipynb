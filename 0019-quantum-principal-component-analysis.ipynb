{
 "cells": [
  {
   "cell_type": "markdown",
   "metadata": {},
   "source": [
    "## Quantum Principal Component Analysis (qPCA)\n",
    "\n",
    "Principal Component Analysis (PCA) is a powerful technique in classical data analysis for dimensionality reduction. In quantum computing, qPCA can be leveraged to find the principal components of quantum data more efficiently. Quantum Principal Component Analysis has the potential to significantly speed up data analysis processes, especially for high-dimensional quantum data. Understanding how to implement and use qPCA is essential for leveraging quantum computers in data science and machine learning tasks.\n",
    "\n",
    "PCA is a cornerstone of classical data analysis, transforming high-dimensional data into a lower-dimensional form while preserving variance. It reveals hidden patterns and structures, aiding in feature extraction and noise reduction. This enhances the performance of downstream machine learning algorithms. Quantum Principal Component Analysis (qPCA) takes PCA principles and leverages quantum computing to perform these operations more efficiently. Quantum algorithms can potentially solve PCA problems exponentially faster, crucial for large datasets in fields like genomics, finance, and AI. qPCA also naturally processes quantum data, which classical computers struggle with.\n",
    "\n",
    "One of qPCA's significant advantages is its ability to handle high-dimensional data efficiently. Quantum computers excel in dealing with large datasets due to their inherent parallelism. This makes qPCA useful for tasks involving vast data, such as image recognition, NLP, and scientific simulations, enabling quicker insights and decision-making. The potential applications of qPCA are vast. In finance, it can analyze market trends. In healthcare, it can help analyze genomic data for personalized medicine. In AI, it can improve machine learning models by reducing data dimensionality. qPCA also opens new possibilities in quantum machine learning and quantum chemistry.\n",
    "\n",
    "To leverage qPCA, it's essential to understand its implementation. This involves creating quantum circuits representing data's principal components, initializing quantum states, and using simulators to analyze results. Mastering these techniques unlocks quantum computing's full potential for data analysis. Implementing qPCA in Qiskit provides a practical way to explore and apply these concepts. As quantum technology advances, qPCA is set to become a standard data analysis tool. Its efficiency with large datasets will revolutionize many fields. Researchers who utilize qPCA will drive innovation and discovery. The future of data analysis is quantum, with qPCA offering new insights and capabilities previously unimaginable.\n",
    "\n",
    "Here's how to implement a basic qPCA using Qiskit"
   ]
  },
  {
   "cell_type": "code",
   "execution_count": 1,
   "metadata": {},
   "outputs": [],
   "source": [
    "# Import necessary libraries\n",
    "import numpy as np\n",
    "from qiskit import QuantumCircuit, transpile\n",
    "from qiskit_aer import AerSimulator \n",
    "import matplotlib.pyplot as plt\n",
    "from qiskit.visualization import plot_histogram\n",
    "\n",
    "%matplotlib inline"
   ]
  },
  {
   "cell_type": "code",
   "execution_count": 2,
   "metadata": {},
   "outputs": [],
   "source": [
    "# Define a simple 2x2 covariance matrix\n",
    "cov_matrix = np.array([[1, 0.5], [0.5, 1]])"
   ]
  },
  {
   "cell_type": "code",
   "execution_count": 3,
   "metadata": {},
   "outputs": [],
   "source": [
    "# Eigen decomposition of the covariance matrix\n",
    "eigvals, eigvecs = np.linalg.eigh(cov_matrix)"
   ]
  },
  {
   "cell_type": "code",
   "execution_count": 4,
   "metadata": {},
   "outputs": [],
   "source": [
    "# Normalize eigenvectors\n",
    "eigvecs = eigvecs / np.linalg.norm(eigvecs, axis=0)"
   ]
  },
  {
   "cell_type": "code",
   "execution_count": 5,
   "metadata": {},
   "outputs": [],
   "source": [
    "# Create a quantum circuit for qPCA\n",
    "qc = QuantumCircuit(2)"
   ]
  },
  {
   "cell_type": "code",
   "execution_count": 6,
   "metadata": {},
   "outputs": [
    {
     "data": {
      "text/plain": [
       "<qiskit.circuit.instructionset.InstructionSet at 0x11e151480>"
      ]
     },
     "execution_count": 6,
     "metadata": {},
     "output_type": "execute_result"
    }
   ],
   "source": [
    "# Initialize the quantum state to represent the eigenvectors\n",
    "qc.initialize(eigvecs[:, 0], [0])  # Initialize with first eigenvector\n",
    "qc.save_statevector()  # Save statevector after first initialization\n",
    "qc.initialize(eigvecs[:, 1], [1])  # Initialize with second eigenvector"
   ]
  },
  {
   "cell_type": "code",
   "execution_count": 7,
   "metadata": {},
   "outputs": [
    {
     "data": {
      "image/png": "[encoded data removed]",
      "text/plain": [
       "<Figure size 705.35x200.667 with 1 Axes>"
      ]
     },
     "metadata": {},
     "output_type": "display_data"
    }
   ],
   "source": [
    "# Draw the circuit\n",
    "qc.draw('mpl')\n",
    "plt.show()"
   ]
  },
  {
   "cell_type": "code",
   "execution_count": 8,
   "metadata": {},
   "outputs": [],
   "source": [
    "# Transpile the circuit for the AerSimulator\n",
    "simulator = AerSimulator()\n",
    "transpiled_circuit = transpile(qc, simulator)"
   ]
  },
  {
   "cell_type": "code",
   "execution_count": 9,
   "metadata": {},
   "outputs": [],
   "source": [
    "# Run the simulation\n",
    "result = simulator.run(transpiled_circuit).result()"
   ]
  },
  {
   "cell_type": "code",
   "execution_count": 10,
   "metadata": {},
   "outputs": [],
   "source": [
    "# Get the statevector (using experiment data)\n",
    "statevector = result.data()['statevector']"
   ]
  },
  {
   "cell_type": "code",
   "execution_count": 11,
   "metadata": {},
   "outputs": [
    {
     "name": "stdout",
     "output_type": "stream",
     "text": [
      "Statevector: Statevector([-0.70710678+0.j,  0.70710678+0.j, -0.        +0.j,\n",
      "              0.        +0.j],\n",
      "            dims=(2, 2))\n"
     ]
    }
   ],
   "source": [
    "# Visualize the statevector using latex (Qiskit 1.0)\n",
    "# print(\"Statevector:\", latex.latex(statevector))  # Print the latex representation\n",
    "print(\"Statevector:\", statevector)"
   ]
  },
  {
   "cell_type": "code",
   "execution_count": 12,
   "metadata": {},
   "outputs": [],
   "source": [
    "# Measure all qubits\n",
    "qc.measure_all()"
   ]
  },
  {
   "cell_type": "code",
   "execution_count": 13,
   "metadata": {},
   "outputs": [],
   "source": [
    "# Transpile the circuit with measurement for the AerSimulator\n",
    "transpiled_circuit_with_measurement = transpile(qc, simulator)\n",
    "result_with_measurement = simulator.run(transpiled_circuit_with_measurement, shots=1024).result()"
   ]
  },
  {
   "cell_type": "code",
   "execution_count": 14,
   "metadata": {},
   "outputs": [
    {
     "data": {
      "image/png": "[encoded data removed]",
      "text/plain": [
       "<Figure size 640x480 with 1 Axes>"
      ]
     },
     "metadata": {},
     "output_type": "display_data"
    }
   ],
   "source": [
    "# Get the measurement results\n",
    "counts = result_with_measurement.get_counts()\n",
    "plot_histogram(counts)\n",
    "plt.show()"
   ]
  }
 ],
 "metadata": {
  "kernelspec": {
   "display_name": "qiskit",
   "language": "python",
   "name": "python3"
  },
  "language_info": {
   "codemirror_mode": {
    "name": "ipython",
    "version": 3
   },
   "file_extension": ".py",
   "mimetype": "text/x-python",
   "name": "python",
   "nbconvert_exporter": "python",
   "pygments_lexer": "ipython3",
   "version": "3.12.4"
  }
 },
 "nbformat": 4,
 "nbformat_minor": 2
}
