{
 "cells": [
  {
   "cell_type": "markdown",
   "metadata": {},
   "source": [
    "### Introduction to Quantum Computing \n",
    "\n",
    "Quantum computing is a revolutionary technology that leverages the principles of quantum mechanics to process information in fundamentally new ways. Unlike classical computers, which use bits to represent data as 0s or 1s, quantum computers use quantum bits, or qubits, which can exist in multiple states simultaneously thanks to superposition. This enables quantum computers to solve certain types of problems much faster than classical computers.\n",
    "\n",
    "🔍 Why is Quantum Computing important?\n",
    "Quantum computing has the potential to revolutionize fields such as cryptography, materials science, and complex system simulations. It could help us design new drugs, optimize supply chains, and even tackle climate change by modeling complex systems more efficiently.\n",
    "\n",
    "Here's a simple example in Qiskit, a popular quantum computing framework, to demonstrate a basic quantum circuit."
   ]
  },
  {
   "cell_type": "code",
   "execution_count": 4,
   "metadata": {},
   "outputs": [
    {
     "name": "stdout",
     "output_type": "stream",
     "text": [
      "Counts: {'1': 483, '0': 541}\n"
     ]
    },
    {
     "data": {
      "image/png": "[encoded data removed]",
      "text/plain": [
       "<Figure size 269.064x200.667 with 1 Axes>"
      ]
     },
     "execution_count": 4,
     "metadata": {},
     "output_type": "execute_result"
    }
   ],
   "source": [
    "# Import necessary libraries\n",
    "from qiskit import QuantumCircuit, transpile\n",
    "from qiskit_aer import AerSimulator\n",
    "from qiskit.visualization import plot_histogram\n",
    "import matplotlib.pyplot as plt\n",
    "\n",
    "# Create a Quantum Circuit with 1 qubit and 1 classical bit\n",
    "qc = QuantumCircuit(1, 1)\n",
    "\n",
    "# Apply a Hadamard gate to put the qubit into superposition\n",
    "qc.h(0)\n",
    "\n",
    "# Measure the qubit\n",
    "qc.measure(0, 0)\n",
    "\n",
    "# Use the Qiskit Aer simulator to run the circuit\n",
    "simulator = AerSimulator()\n",
    "compiled_circuit = transpile(qc, simulator)\n",
    "result = simulator.run(compiled_circuit).result()\n",
    "\n",
    "# Get the counts of outcomes\n",
    "counts = result.get_counts()\n",
    "\n",
    "print(\"Counts:\", counts)\n",
    "\n",
    "# Visualize the results\n",
    "plot_histogram(counts)\n",
    "plt.show()\n",
    "qc.draw('mpl')\n",
    "\n"
   ]
  },
  {
   "cell_type": "markdown",
   "metadata": {},
   "source": [
    "This simple quantum circuit applies a Hadamard gate to a qubit, creating a superposition of states, and then measures the result. Running this circuit multiple times will show a roughly equal distribution of 0s and 1s, illustrating the probabilistic nature of quantum measurements."
   ]
  }
 ],
 "metadata": {
  "kernelspec": {
   "display_name": "qiskit",
   "language": "python",
   "name": "python3"
  },
  "language_info": {
   "codemirror_mode": {
    "name": "ipython",
    "version": 3
   },
   "file_extension": ".py",
   "mimetype": "text/x-python",
   "name": "python",
   "nbconvert_exporter": "python",
   "pygments_lexer": "ipython3",
   "version": "3.12.4"
  }
 },
 "nbformat": 4,
 "nbformat_minor": 2
}
