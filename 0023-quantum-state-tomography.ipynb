{
 "cells": [
  {
   "cell_type": "markdown",
   "metadata": {},
   "source": [
    "\n",
    "#### Quantum State Tomography\n",
    "Quantum state tomography is a fundamental technique in quantum computing and quantum information science. It enables the reconstruction of a quantum system's state from measurement outcomes, crucial for verifying and validating quantum states—the building blocks of quantum algorithms and protocols.\n",
    "\n",
    "In quantum mechanics, a quantum system's state is represented by a density matrix. This matrix holds all probabilistic information about the system, allowing predictions of measurement outcomes. For an 𝑛-qubit system, the density matrix is a 2^n ×2^n complex matrix, fully describing the quantum state.\n",
    "\n",
    "The process begins with repeatedly preparing the quantum state to ensure consistency and accuracy. Next, measurements are performed in various bases by applying quantum gates to rotate the state, each basis providing a distinct perspective. Repeated measurements gather statistical data, recording the frequency of outcomes to interpret empirical probabilities. This data is then used to estimate the density matrix, often through optimization techniques like maximum likelihood estimation or linear inversion.\n",
    "\n",
    "Choosing appropriate measurement bases is crucial, commonly including the computational basis and those derived from Hadamard, Pauli-X, Pauli-Y, and Pauli-Z gates. Managing noise and imperfections is a significant challenge, addressed through advanced statistical methods and regularization techniques. The complexity of tomography grows exponentially with the number of qubits, making full tomography impractical for large systems. Alternatives such as compressed sensing or machine learning-based approaches are explored for scalability.\n",
    "\n",
    "Quantum state tomography is indispensable for quantum professionals, enabling precise characterization of quantum states. It is vital for verifying the integrity of quantum states and ensuring the proper functioning of quantum algorithms and protocols. As quantum technologies evolve, efficient and accurate tomography will remain a cornerstone, driving advancements in this field."
   ]
  },
  {
   "cell_type": "markdown",
   "metadata": {},
   "source": [
    "###### Mathematical Formulation\n",
    "For a single qubit, the density matrix 𝜌 can be written as:\n",
    "\n",
    "$$\n",
    "\\rho = \\frac{1}{2}(I + \\vec{r} \\cdot \\vec{\\sigma})\n",
    "$$\n",
    "\n",
    "\\begin{align*}\n",
    "\\text{where:} \\\\\n",
    "&\\rho: \\text{density matrix} \\\\\n",
    "&I: \\text{identity matrix} \\\\\n",
    "&\\vec{r}: \\text{Bloch vector} \\\\\n",
    "&\\vec{\\sigma}: \\text{Pauli vector}\n",
    "\\end{align*}\n",
    "\n",
    "$$\n",
    "r_i = \\langle \\sigma_i \\rangle = Tr(\\rho \\sigma_i)\n",
    "$$\n",
    "\n",
    "\\begin{align*}\n",
    "\\text{where:} \\\\\n",
    "&r_i: \\text{i-th component of the Bloch vector} \\\\\n",
    "&\\langle \\sigma_i \\rangle: \\text{expectation value of } \\sigma_i \\\\\n",
    "&Tr: \\text{trace operation}\n",
    "\\end{align*}\n"
   ]
  },
  {
   "cell_type": "code",
   "execution_count": 5,
   "metadata": {},
   "outputs": [],
   "source": [
    "# Import libraries\n",
    "from qiskit import QuantumCircuit, transpile\n",
    "from qiskit.visualization import plot_histogram, circuit_drawer\n",
    "import numpy as np\n",
    "import matplotlib.pyplot as plt\n",
    "from qiskit.quantum_info import Statevector, state_fidelity\n",
    "from qiskit.result import Counts\n",
    "from qiskit.quantum_info import DensityMatrix\n",
    "from qiskit_aer import AerSimulator\n",
    "\n",
    "%matplotlib inline\n",
    "\n",
    "import warnings \n",
    "warnings.filterwarnings('ignore')"
   ]
  },
  {
   "cell_type": "code",
   "execution_count": 6,
   "metadata": {},
   "outputs": [],
   "source": [
    "# Function to prepare a quantum state\n",
    "def prepare_state():\n",
    "    qc = QuantumCircuit(1)\n",
    "    qc.h(0)\n",
    "    qc.s(0)\n",
    "    return qc"
   ]
  },
  {
   "cell_type": "code",
   "execution_count": 8,
   "metadata": {},
   "outputs": [],
   "source": [
    "# Function to perform measurements in different bases\n",
    "def measure_in_bases(circuit):\n",
    "    circuits = []\n",
    "    \n",
    "    # Measure in X basis\n",
    "    qc_x = circuit.copy()\n",
    "    qc_x.h(0)\n",
    "    qc_x.measure_all()\n",
    "    circuits.append(qc_x)\n",
    "    \n",
    "    # Measure in Y basis\n",
    "    qc_y = circuit.copy()\n",
    "    qc_y.sdg(0)\n",
    "    qc_y.h(0)\n",
    "    qc_y.measure_all()\n",
    "    circuits.append(qc_y)\n",
    "    \n",
    "    # Measure in Z basis\n",
    "    qc_z = circuit.copy()\n",
    "    qc_z.measure_all()\n",
    "    circuits.append(qc_z)\n",
    "    \n",
    "    return circuits"
   ]
  },
  {
   "cell_type": "code",
   "execution_count": 9,
   "metadata": {},
   "outputs": [],
   "source": [
    "# Prepare the quantum state\n",
    "qc = prepare_state()"
   ]
  },
  {
   "cell_type": "code",
   "execution_count": 10,
   "metadata": {},
   "outputs": [
    {
     "name": "stdout",
     "output_type": "stream",
     "text": [
      "Original Circuit:\n"
     ]
    },
    {
     "data": {
      "image/png": "[encoded data removed]",
      "text/plain": [
       "<Figure size 269.064x117.056 with 1 Axes>"
      ]
     },
     "metadata": {},
     "output_type": "display_data"
    }
   ],
   "source": [
    "# Draw the original circuit\n",
    "print(\"Original Circuit:\")\n",
    "circuit_drawer(qc, output='mpl')\n",
    "plt.show()"
   ]
  },
  {
   "cell_type": "code",
   "execution_count": 11,
   "metadata": {},
   "outputs": [],
   "source": [
    "# Transpile the circuit for the AerSimulator\n",
    "transpiled_qc = transpile(qc, backend=AerSimulator())"
   ]
  },
  {
   "cell_type": "code",
   "execution_count": 12,
   "metadata": {},
   "outputs": [
    {
     "name": "stdout",
     "output_type": "stream",
     "text": [
      "Transpiled Circuit:\n"
     ]
    },
    {
     "data": {
      "image/png": "[encoded data removed]",
      "text/plain": [
       "<Figure size 185.453x117.056 with 1 Axes>"
      ]
     },
     "metadata": {},
     "output_type": "display_data"
    }
   ],
   "source": [
    "# Draw the transpiled circuit\n",
    "print(\"Transpiled Circuit:\")\n",
    "circuit_drawer(transpiled_qc, output='mpl')\n",
    "plt.show()"
   ]
  },
  {
   "cell_type": "code",
   "execution_count": 13,
   "metadata": {},
   "outputs": [],
   "source": [
    "# Generate measurement circuits\n",
    "measurement_circuits = measure_in_bases(qc)"
   ]
  },
  {
   "cell_type": "code",
   "execution_count": 14,
   "metadata": {},
   "outputs": [],
   "source": [
    "# Use AerSimulator from qiskit_aer\n",
    "simulator = AerSimulator()"
   ]
  },
  {
   "cell_type": "code",
   "execution_count": 15,
   "metadata": {},
   "outputs": [],
   "source": [
    "# Run the circuits\n",
    "results = simulator.run(measurement_circuits).result()"
   ]
  },
  {
   "cell_type": "code",
   "execution_count": 16,
   "metadata": {},
   "outputs": [],
   "source": [
    "# Extract counts\n",
    "counts_x = results.get_counts(measurement_circuits[0])\n",
    "counts_y = results.get_counts(measurement_circuits[1])\n",
    "counts_z = results.get_counts(measurement_circuits[2])"
   ]
  },
  {
   "cell_type": "code",
   "execution_count": 17,
   "metadata": {},
   "outputs": [],
   "source": [
    "# Function to calculate expectation values from counts\n",
    "def expectation_value(counts):\n",
    "    shots = sum(counts.values())\n",
    "    exp_value = 0\n",
    "    if '0' in counts:\n",
    "        exp_value += counts['0'] / shots\n",
    "    if '1' in counts:\n",
    "        exp_value -= counts['1'] / shots\n",
    "    return exp_value"
   ]
  },
  {
   "cell_type": "code",
   "execution_count": 18,
   "metadata": {},
   "outputs": [],
   "source": [
    "# Calculate Bloch vector components\n",
    "r_x = expectation_value(counts_x)\n",
    "r_y = expectation_value(counts_y)\n",
    "r_z = expectation_value(counts_z)"
   ]
  },
  {
   "cell_type": "code",
   "execution_count": 19,
   "metadata": {},
   "outputs": [],
   "source": [
    "# Reconstruct the density matrix\n",
    "rho = 0.5 * (np.eye(2) + r_x * np.array([[0, 1], [1, 0]]) + r_y * np.array([[0, -1j], [1j, 0]]) + r_z * np.array([[1, 0], [0, -1]]))"
   ]
  },
  {
   "cell_type": "code",
   "execution_count": 20,
   "metadata": {},
   "outputs": [
    {
     "name": "stdout",
     "output_type": "stream",
     "text": [
      "Reconstructed Density Matrix:\n",
      "[[0.55273438+0.j         0.05273438-0.05273438j]\n",
      " [0.05273438+0.05273438j 0.44726562+0.j        ]]\n"
     ]
    }
   ],
   "source": [
    "# Print the density matrix\n",
    "print(\"Reconstructed Density Matrix:\")\n",
    "print(rho)"
   ]
  },
  {
   "cell_type": "code",
   "execution_count": 23,
   "metadata": {},
   "outputs": [
    {
     "data": {
      "image/png": "[encoded data removed]",
      "text/plain": [
       "<Figure size 640x480 with 1 Axes>"
      ]
     },
     "metadata": {},
     "output_type": "display_data"
    }
   ],
   "source": [
    "# Plot the histogram of one of the measurement results\n",
    "plot_histogram(counts_z)\n",
    "plt.show()"
   ]
  }
 ],
 "metadata": {
  "kernelspec": {
   "display_name": "qiskit",
   "language": "python",
   "name": "python3"
  },
  "language_info": {
   "codemirror_mode": {
    "name": "ipython",
    "version": 3
   },
   "file_extension": ".py",
   "mimetype": "text/x-python",
   "name": "python",
   "nbconvert_exporter": "python",
   "pygments_lexer": "ipython3",
   "version": "3.12.4"
  }
 },
 "nbformat": 4,
 "nbformat_minor": 2
}
