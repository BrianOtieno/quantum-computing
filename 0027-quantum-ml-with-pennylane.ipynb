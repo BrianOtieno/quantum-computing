{
 "cells": [
  {
   "cell_type": "markdown",
   "metadata": {},
   "source": [
    "### Exploring Quantum Machine Learning with PennyLane\n",
    "\n",
    "Quantum machine learning (QML) represents a fascinating intersection of quantum computing and machine learning, promising to revolutionize data processing and predictive modeling. One of the most versatile tools in this domain is PennyLane, an open-source software framework designed for developing QML models. PennyLane integrates seamlessly with both quantum simulators and real quantum hardware, providing a flexible platform for experimentation and implementation.\n",
    "\n",
    "PennyLane offers a unique advantage by allowing hybrid quantum-classical computations, enabling the leveraging of quantum circuits alongside classical neural networks. This capability is crucial for developing algorithms that can harness the power of quantum computers while utilizing the extensive libraries and frameworks available in classical machine learning.\n",
    "\n",
    "One of the primary applications of QML with PennyLane is in variational quantum algorithms. These algorithms involve optimizing quantum circuits to minimize a cost function, similar to how classical neural networks are trained. Variational Quantum Eigensolver (VQE) and Quantum Approximate Optimization Algorithm (QAOA) are prominent examples that have shown potential in solving complex optimization problems and simulating quantum systems.\n",
    "\n",
    "To illustrate the power of PennyLane , let’s look at a simple example: a variational quantum classifier. This classifier uses a quantum circuit to transform input data and a classical optimizer to train the model. The following code demonstrates how to set up and train a variational quantum classifier using PennyLane and Qiskit:\n",
    "\n",
    "This code sets up a quantum device with two qubits, defines a quantum circuit with parameterized gates, and trains the model using a classical optimizer. The quantum circuit transforms the input data, and the classical optimizer minimizes the cost function, iteratively improving the model's predictions.\n",
    "\n",
    "PennyLane's integration with popular machine learning frameworks like PyTorch and TensorFlow further enhances its versatility, allowing for more complex and scalable QML models. As the field of quantum computing advances, tools like PennyLane will be essential in bridging the gap between quantum algorithms and practical machine learning applications, unlocking new possibilities in data analysis and optimization.\n",
    "\n",
    "Quantum machine learning with PennyLane is not just a glimpse into the future; it’s a tangible step towards harnessing the full potential of quantum computing in solving real-world problems. Whether you're a researcher exploring the cutting edge or a developer looking to integrate QML into your applications, PennyLane offers a robust and accessible platform to embark on this exciting journey"
   ]
  },
  {
   "cell_type": "code",
   "execution_count": 1,
   "metadata": {},
   "outputs": [],
   "source": [
    "import pennylane as qml\n",
    "from pennylane import numpy as np\n",
    "from pennylane.optimize import NesterovMomentumOptimizer\n",
    "from qiskit_aer import AerSimulator\n",
    "import matplotlib.pyplot as plt \n",
    "\n",
    "%matplotlib inline"
   ]
  },
  {
   "cell_type": "code",
   "execution_count": 2,
   "metadata": {},
   "outputs": [],
   "source": [
    "# Define the device using Qiskit's AerSimulator\n",
    "dev = qml.device('qiskit.aer', wires=2, backend='aer_simulator')"
   ]
  },
  {
   "cell_type": "code",
   "execution_count": 3,
   "metadata": {},
   "outputs": [],
   "source": [
    "# Define the variational circuit\n",
    "@qml.qnode(dev)\n",
    "def circuit(weights, x=None):\n",
    "    qml.AngleEmbedding(x, wires=range(2))\n",
    "    qml.StronglyEntanglingLayers(weights, wires=range(2))\n",
    "    return qml.expval(qml.PauliZ(0))"
   ]
  },
  {
   "cell_type": "code",
   "execution_count": 4,
   "metadata": {},
   "outputs": [],
   "source": [
    "# Cost function to optimize\n",
    "def cost(weights, x, y):\n",
    "    predictions = np.array([circuit(weights, x=x_) for x_ in x])\n",
    "    return np.mean((predictions - y) ** 2)"
   ]
  },
  {
   "cell_type": "code",
   "execution_count": 5,
   "metadata": {},
   "outputs": [],
   "source": [
    "# Generate some random data\n",
    "np.random.seed(42)\n",
    "X = np.random.rand(100, 2)\n",
    "Y = np.array([1 if x[0] + x[1] > 1 else -1 for x in X])"
   ]
  },
  {
   "cell_type": "code",
   "execution_count": 6,
   "metadata": {},
   "outputs": [],
   "source": [
    "# Initialize weights\n",
    "weights = 0.01 * np.random.randn(3, 2, 3)"
   ]
  },
  {
   "cell_type": "code",
   "execution_count": 7,
   "metadata": {},
   "outputs": [
    {
     "name": "stdout",
     "output_type": "stream",
     "text": [
      "Step 0: Cost = 2.1772285079956055\n",
      "Step 10: Cost = 0.6183182144165039\n",
      "Step 20: Cost = 0.5865019226074218\n",
      "Step 30: Cost = 0.5917021560668946\n",
      "Step 40: Cost = 0.5865322494506836\n",
      "Training complete\n"
     ]
    }
   ],
   "source": [
    "# Train the model\n",
    "opt = NesterovMomentumOptimizer(0.5)\n",
    "steps = 50\n",
    "\n",
    "for i in range(steps):\n",
    "    weights = opt.step(lambda w: cost(w, X, Y), weights)\n",
    "    if i % 10 == 0:\n",
    "        print(f'Step {i}: Cost = {cost(weights, X, Y)}')\n",
    "\n",
    "print('Training complete')"
   ]
  },
  {
   "cell_type": "code",
   "execution_count": 8,
   "metadata": {},
   "outputs": [
    {
     "name": "stdout",
     "output_type": "stream",
     "text": [
      "0: ──RX(0.37)──Rot(0.36,0.69,0.40)──╭●─╭X──Rot(-0.06,-0.32,0.81)─╭●─╭X──Rot(0.02,0.02,0.07)───╭●─╭X─┤\n",
      "1: ──RX(0.95)──Rot(0.65,0.24,-0.02)─╰X─╰●──Rot(-1.38,2.39,-0.00)─╰X─╰●──Rot(-0.17,-0.54,0.03)─╰X─╰●─┤\n",
      "\n",
      "   <Z>\n",
      "      \n"
     ]
    }
   ],
   "source": [
    "# Visualize the final trained circuit \n",
    "print(qml.draw(circuit)(weights, x=X[0])) "
   ]
  }
 ],
 "metadata": {
  "kernelspec": {
   "display_name": "qiskit",
   "language": "python",
   "name": "python3"
  },
  "language_info": {
   "codemirror_mode": {
    "name": "ipython",
    "version": 3
   },
   "file_extension": ".py",
   "mimetype": "text/x-python",
   "name": "python",
   "nbconvert_exporter": "python",
   "pygments_lexer": "ipython3",
   "version": "3.12.4"
  }
 },
 "nbformat": 4,
 "nbformat_minor": 2
}
