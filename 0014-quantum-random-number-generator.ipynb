{
 "cells": [
  {
   "cell_type": "markdown",
   "metadata": {},
   "source": [
    "### Quantum Random Number Generation (QRNG)\n",
    "\n",
    "Quantum Random Number Generation (QRNG) leverages the inherent randomness of quantum mechanics to generate truly random numbers. This is crucial for applications in cryptography, simulations, and secure communications.\n",
    "\n",
    "In this example, we perform the following steps:\n",
    "\n",
    "✅ Circuit Initialization: We create a quantum circuit with one qubit and one classical bit.\n",
    "\n",
    "✅ Superposition State: We apply a Hadamard gate to the qubit to put it in a superposition state, making the measurement outcomes (0 or 1) equally probable.\n",
    "\n",
    "✅ Measurement: We measure the qubit and store the result in the classical bit.\n",
    "\n",
    "✅ Circuit Visualization: We visualize the quantum circuit.\n",
    "\n",
    "✅ Simulator Initialization: We initialize the AerSimulator to simulate the quantum circuit.\n",
    "\n",
    "✅ Transpilation and Visualization: We transpile the circuit for the simulator and visualize the transpiled circuit.\n",
    "\n",
    "✅ Simulation and Results: We simulate the transpiled circuit using the AerSimulator, compile the circuit, and plot the measurement results.\n",
    "\n",
    "Quantum Random Number Generators exploit the fundamental principles of quantum mechanics to produce truly random numbers, which are vital for secure communication, cryptographic protocols, and high-fidelity simulations. \n",
    "\n",
    "By harnessing the power of quantum randomness, we can ensure stronger security and more robust systems."
   ]
  },
  {
   "cell_type": "code",
   "execution_count": 3,
   "metadata": {},
   "outputs": [],
   "source": [
    "# Import necessary libraries\n",
    "from qiskit import QuantumCircuit, transpile\n",
    "from qiskit_aer import AerSimulator\n",
    "from qiskit.visualization import plot_histogram\n",
    "import matplotlib.pyplot as plt\n",
    "\n",
    "%matplotlib inline"
   ]
  },
  {
   "cell_type": "code",
   "execution_count": 4,
   "metadata": {},
   "outputs": [],
   "source": [
    "# Create a quantum circuit with one qubit and one classical bit\n",
    "qc = QuantumCircuit(1, 1)"
   ]
  },
  {
   "cell_type": "code",
   "execution_count": 5,
   "metadata": {},
   "outputs": [
    {
     "data": {
      "text/plain": [
       "<qiskit.circuit.instructionset.InstructionSet at 0x120093a60>"
      ]
     },
     "execution_count": 5,
     "metadata": {},
     "output_type": "execute_result"
    }
   ],
   "source": [
    "# Apply a Hadamard gate to put the qubit in a superposition state\n",
    "qc.h(0)"
   ]
  },
  {
   "cell_type": "code",
   "execution_count": 6,
   "metadata": {},
   "outputs": [
    {
     "data": {
      "text/plain": [
       "<qiskit.circuit.instructionset.InstructionSet at 0x12026ebc0>"
      ]
     },
     "execution_count": 6,
     "metadata": {},
     "output_type": "execute_result"
    }
   ],
   "source": [
    "# Measure the qubit\n",
    "qc.measure(0, 0)"
   ]
  },
  {
   "cell_type": "code",
   "execution_count": 7,
   "metadata": {},
   "outputs": [
    {
     "data": {
      "image/png": "[encoded data removed]",
      "text/plain": [
       "<Figure size 269.064x200.667 with 1 Axes>"
      ]
     },
     "metadata": {},
     "output_type": "display_data"
    }
   ],
   "source": [
    "# Draw the circuit\n",
    "qc.draw('mpl')\n",
    "plt.show()"
   ]
  },
  {
   "cell_type": "code",
   "execution_count": 8,
   "metadata": {},
   "outputs": [],
   "source": [
    "# Initialize the simulator\n",
    "simulator = AerSimulator()"
   ]
  },
  {
   "cell_type": "code",
   "execution_count": 9,
   "metadata": {},
   "outputs": [],
   "source": [
    "# Transpile and execute the circuit on the simulator\n",
    "compiled_circuit = transpile(qc, simulator)"
   ]
  },
  {
   "cell_type": "code",
   "execution_count": 10,
   "metadata": {},
   "outputs": [
    {
     "data": {
      "image/png": "[encoded data removed]",
      "text/plain": [
       "<Figure size 269.064x200.667 with 1 Axes>"
      ]
     },
     "metadata": {},
     "output_type": "display_data"
    }
   ],
   "source": [
    "# Draw the transpiled circuit after transpilation\n",
    "compiled_circuit.draw('mpl')\n",
    "plt.show()"
   ]
  },
  {
   "cell_type": "code",
   "execution_count": 11,
   "metadata": {},
   "outputs": [],
   "source": [
    "# Run the transpiled circuit\n",
    "result = simulator.run(compiled_circuit, shots=1024).result()"
   ]
  },
  {
   "cell_type": "code",
   "execution_count": 12,
   "metadata": {},
   "outputs": [
    {
     "data": {
      "image/png": "[encoded data removed]",
      "text/plain": [
       "<Figure size 640x480 with 1 Axes>"
      ]
     },
     "metadata": {},
     "output_type": "display_data"
    }
   ],
   "source": [
    "# Get and plot the results\n",
    "counts = result.get_counts(qc)\n",
    "plot_histogram(counts)\n",
    "plt.show()"
   ]
  }
 ],
 "metadata": {
  "kernelspec": {
   "display_name": "qiskit",
   "language": "python",
   "name": "python3"
  },
  "language_info": {
   "codemirror_mode": {
    "name": "ipython",
    "version": 3
   },
   "file_extension": ".py",
   "mimetype": "text/x-python",
   "name": "python",
   "nbconvert_exporter": "python",
   "pygments_lexer": "ipython3",
   "version": "3.12.4"
  }
 },
 "nbformat": 4,
 "nbformat_minor": 2
}
