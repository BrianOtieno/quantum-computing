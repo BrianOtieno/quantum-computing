{
 "cells": [
  {
   "cell_type": "code",
   "execution_count": 2,
   "metadata": {},
   "outputs": [
    {
     "ename": "AttributeError",
     "evalue": "partially initialized module 'qiskit' has no attribute '_accelerate' (most likely due to a circular import)",
     "output_type": "error",
     "traceback": [
      "\u001b[0;31m---------------------------------------------------------------------------\u001b[0m",
      "\u001b[0;31mAttributeError\u001b[0m                            Traceback (most recent call last)",
      "Cell \u001b[0;32mIn[2], line 2\u001b[0m\n\u001b[1;32m      1\u001b[0m \u001b[38;5;66;03m# Import necessary libraries\u001b[39;00m\n\u001b[0;32m----> 2\u001b[0m \u001b[38;5;28;01mfrom\u001b[39;00m \u001b[38;5;21;01mqiskit\u001b[39;00m \u001b[38;5;28;01mimport\u001b[39;00m QuantumCircuit, Aer, transpile, assemble                                                                                                                                 \u001b[38;5;66;03m# type: ignore\u001b[39;00m\n\u001b[1;32m      3\u001b[0m \u001b[38;5;28;01mfrom\u001b[39;00m \u001b[38;5;21;01mqiskit\u001b[39;00m\u001b[38;5;21;01m.\u001b[39;00m\u001b[38;5;21;01mvisualization\u001b[39;00m \u001b[38;5;28;01mimport\u001b[39;00m plot_histogram                                                                                                                                                         \u001b[38;5;66;03m# type: ignore\u001b[39;00m\n\u001b[1;32m      4\u001b[0m \u001b[38;5;28;01mimport\u001b[39;00m \u001b[38;5;21;01mmatplotlib\u001b[39;00m\u001b[38;5;21;01m.\u001b[39;00m\u001b[38;5;21;01mpyplot\u001b[39;00m \u001b[38;5;28;01mas\u001b[39;00m \u001b[38;5;21;01mplt\u001b[39;00m                                                                                                                                                                                 \u001b[38;5;66;03m# type: ignore\u001b[39;00m\n",
      "File \u001b[0;32m/Library/Frameworks/Python.framework/Versions/3.11/lib/python3.11/site-packages/qiskit/__init__.py:62\u001b[0m\n\u001b[1;32m     56\u001b[0m \u001b[38;5;28;01mimport\u001b[39;00m \u001b[38;5;21;01mqiskit\u001b[39;00m\u001b[38;5;21;01m.\u001b[39;00m\u001b[38;5;21;01m_numpy_compat\u001b[39;00m\n\u001b[1;32m     58\u001b[0m \u001b[38;5;66;03m# Globally define compiled submodules. The normal import mechanism will not find compiled submodules\u001b[39;00m\n\u001b[1;32m     59\u001b[0m \u001b[38;5;66;03m# in _accelerate because it relies on file paths, but PyO3 generates only one shared library file.\u001b[39;00m\n\u001b[1;32m     60\u001b[0m \u001b[38;5;66;03m# We manually define them on import so people can directly import qiskit._accelerate.* submodules\u001b[39;00m\n\u001b[1;32m     61\u001b[0m \u001b[38;5;66;03m# and not have to rely on attribute access.  No action needed for top-level extension packages.\u001b[39;00m\n\u001b[0;32m---> 62\u001b[0m sys\u001b[38;5;241m.\u001b[39mmodules[\u001b[38;5;124m\"\u001b[39m\u001b[38;5;124mqiskit._accelerate.circuit\u001b[39m\u001b[38;5;124m\"\u001b[39m] \u001b[38;5;241m=\u001b[39m \u001b[43mqiskit\u001b[49m\u001b[38;5;241;43m.\u001b[39;49m\u001b[43m_accelerate\u001b[49m\u001b[38;5;241m.\u001b[39mcircuit\n\u001b[1;32m     63\u001b[0m sys\u001b[38;5;241m.\u001b[39mmodules[\u001b[38;5;124m\"\u001b[39m\u001b[38;5;124mqiskit._accelerate.convert_2q_block_matrix\u001b[39m\u001b[38;5;124m\"\u001b[39m] \u001b[38;5;241m=\u001b[39m (\n\u001b[1;32m     64\u001b[0m     qiskit\u001b[38;5;241m.\u001b[39m_accelerate\u001b[38;5;241m.\u001b[39mconvert_2q_block_matrix\n\u001b[1;32m     65\u001b[0m )\n\u001b[1;32m     66\u001b[0m sys\u001b[38;5;241m.\u001b[39mmodules[\u001b[38;5;124m\"\u001b[39m\u001b[38;5;124mqiskit._accelerate.dense_layout\u001b[39m\u001b[38;5;124m\"\u001b[39m] \u001b[38;5;241m=\u001b[39m qiskit\u001b[38;5;241m.\u001b[39m_accelerate\u001b[38;5;241m.\u001b[39mdense_layout\n",
      "\u001b[0;31mAttributeError\u001b[0m: partially initialized module 'qiskit' has no attribute '_accelerate' (most likely due to a circular import)"
     ]
    }
   ],
   "source": [
    "# Import necessary libraries\n",
    "from qiskit import QuantumCircuit, Aer, transpile, assemble \n",
    "from qiskit.visualization import plot_histogram \n",
    "import matplotlib.pyplot as plt \n",
    "\n",
    "# Create a Quantum Circuit with 2 qubits and 2 classical bits \n",
    "qc = QuantumCircuit(2, 2)\n",
    "\n",
    "# Apply a Hadamard gate to the first qubit to create superposition\n",
    "qc.h(0)\n",
    "\n",
    "# Apply a CNOT gate to entangle the first qubit with the second qubit \n",
    "qc.cx(0, 1)\n",
    "\n",
    "# Measure the qubits\n",
    "qc.measure([0, 1], [0, 1])\n",
    "\n",
    "# Use the Qiskit Aer simulator to run the circuit\n",
    "simulator = Aer.get_backend('aer_simulator')\n",
    "compiled_circuit = transpile(qc, simulator)\n",
    "qobj = assemble(compiled_circuit)\n",
    "result = simulator.run(qobj).result() \n",
    "\n",
    "# Get the counts of outcomes\n",
    "counts = result.get_counts()\n",
    "\n",
    "print(\"Counts:\", counts)\n",
    "\n",
    "# Visualize the results\n",
    "plot_histogram(counts)\n",
    "plt.show()\n",
    "\n"
   ]
  }
 ],
 "metadata": {
  "kernelspec": {
   "display_name": "Python 3",
   "language": "python",
   "name": "python3"
  },
  "language_info": {
   "codemirror_mode": {
    "name": "ipython",
    "version": 3
   },
   "file_extension": ".py",
   "mimetype": "text/x-python",
   "name": "python",
   "nbconvert_exporter": "python",
   "pygments_lexer": "ipython3",
   "version": "3.11.8"
  }
 },
 "nbformat": 4,
 "nbformat_minor": 2
}
