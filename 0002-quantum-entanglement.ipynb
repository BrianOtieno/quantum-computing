{
 "cells": [
  {
   "cell_type": "markdown",
   "metadata": {},
   "source": [
    "### Quantum Entanglement - A Quantum Computing Superpower \n",
    "\n",
    "One of the most intriguing and powerful phenomena in quantum computing is quantum entanglement. Entanglement is a unique property where the quantum states of two or more qubits become interconnected such that the state of one qubit directly influences the state of the other, no matter the distance between them.\n",
    "\n",
    "Why is Quantum Entanglement important?\n",
    "Entanglement is crucial for many quantum algorithms and is a key resource for quantum communication and quantum cryptography. It allows for phenomena like quantum teleportation and plays a significant role in the speed-up provided by quantum computers over classical ones.\n",
    "\n",
    "Here's a simple example in Qiskit to create and measure entangled qubits:"
   ]
  },
  {
   "cell_type": "code",
   "execution_count": 1,
   "metadata": {},
   "outputs": [
    {
     "name": "stdout",
     "output_type": "stream",
     "text": [
      "Counts: {'11': 494, '00': 530}\n"
     ]
    },
    {
     "data": {
      "image/png": "[encoded data removed]",
      "text/plain": [
       "<Figure size 454.517x284.278 with 1 Axes>"
      ]
     },
     "execution_count": 1,
     "metadata": {},
     "output_type": "execute_result"
    }
   ],
   "source": [
    "# Import necessary libraries\n",
    "from qiskit import QuantumCircuit, transpile\n",
    "from qiskit_aer import AerSimulator\n",
    "from qiskit.visualization import plot_histogram\n",
    "import matplotlib.pyplot as plt\n",
    "\n",
    "# Create a Quantum Circuit with 2 qubits and 2 classical bits\n",
    "qc = QuantumCircuit(2, 2)\n",
    "\n",
    "# Apply a Hadamard gate to the first qubit to create superposition\n",
    "qc.h(0)\n",
    "\n",
    "# Apply a CNOT gate to entangle the first qubit with the second qubit\n",
    "qc.cx(0, 1)\n",
    "\n",
    "# Measure the qubits\n",
    "qc.measure([0, 1], [0, 1])\n",
    "\n",
    "# Use the Qiskit Aer simulator to run the circuit\n",
    "simulator = AerSimulator()\n",
    "compiled_circuit = transpile(qc, simulator)\n",
    "result = simulator.run(compiled_circuit).result()\n",
    "\n",
    "# Get the counts of outcomes\n",
    "counts = result.get_counts()\n",
    "\n",
    "print(\"Counts:\", counts)\n",
    "\n",
    "# Visualize the results\n",
    "plot_histogram(counts)\n",
    "plt.show()\n",
    "qc.draw('mpl')\n"
   ]
  },
  {
   "cell_type": "markdown",
   "metadata": {},
   "source": [
    "In this example, we create a quantum circuit with two qubits. We first apply a Hadamard gate to the first qubit to put it into a superposition state. Then, we use a CNOT gate to entangle the first qubit with the second qubit. Measuring the qubits will show correlated results, demonstrating their entangled state."
   ]
  }
 ],
 "metadata": {
  "kernelspec": {
   "display_name": "Python 3",
   "language": "python",
   "name": "python3"
  },
  "language_info": {
   "codemirror_mode": {
    "name": "ipython",
    "version": 3
   },
   "file_extension": ".py",
   "mimetype": "text/x-python",
   "name": "python",
   "nbconvert_exporter": "python",
   "pygments_lexer": "ipython3",
   "version": "3.12.4"
  }
 },
 "nbformat": 4,
 "nbformat_minor": 2
}
