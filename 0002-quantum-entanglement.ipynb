{
 "cells": [
  {
   "cell_type": "code",
   "execution_count": null,
   "metadata": {},
   "outputs": [],
   "source": [
    "# Import necessary libraries\n",
    "from qiskit import QuantumCircuit, Aer, transpile, assemble                                                                                                                                 # type: ignore\n",
    "from qiskit.visualization import plot_histogram                                                                                                                                                         # type: ignore\n",
    "import matplotlib.pyplot as plt                                                                                                                                                                                 # type: ignore\n",
    "\n",
    "# Create a Quantum Circuit with 2 qubits and 2 classical bits                                                                                                                               # type: ignore\n",
    "qc = QuantumCircuit(2, 2)\n",
    "\n",
    "# Apply a Hadamard gate to the first qubit to create superposition\n",
    "qc.h(0)\n",
    "\n",
    "# Apply a CNOT gate to entangle the first qubit with the second qubit \n",
    "qc.cx(0, 1)\n",
    "\n",
    "# Measure the qubits\n",
    "qc.measure([0, 1], [0, 1])\n",
    "\n",
    "# Use the Qiskit Aer simulator to run the circuit\n",
    "simulator = Aer.get_backend('aer_simulator')\n",
    "compiled_circuit = transpile(qc, simulator)\n",
    "qobj = assemble(compiled_circuit)                                                                                                                                                                   # type: ignore\n",
    "result = simulator.run(qobj).result()                                                                                                                                                               # type: ignore\n",
    "\n",
    "# Get the counts of outcomes\n",
    "counts = result.get_counts()\n",
    "\n",
    "print(\"Counts:\", counts)\n",
    "\n",
    "# Visualize the results\n",
    "plot_histogram(counts)\n",
    "plt.show()\n",
    "\n"
   ]
  }
 ],
 "metadata": {
  "kernelspec": {
   "display_name": "Python 3",
   "language": "python",
   "name": "python3"
  },
  "language_info": {
   "name": "python",
   "version": "3.8.9"
  }
 },
 "nbformat": 4,
 "nbformat_minor": 2
}
