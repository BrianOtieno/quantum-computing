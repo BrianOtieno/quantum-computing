{
 "cells": [
  {
   "cell_type": "markdown",
   "metadata": {},
   "source": [
    "### Grover's Algorithm - Quantum Search Optimization \n",
    "\n",
    "Grover's Algorithm is a quantum search algorithm that significantly speeds up the process of finding a specific item in an unsorted database. While a classical computer would require 𝑂(𝑁) operations to find the item, Grover's Algorithm can do it in O(√N​) operations offering a quadratic speedup.\n",
    "\n",
    "#### 🔍 Why is Grover's Algorithm important?\n",
    "Grover's Algorithm is crucial for search and optimization problems. It showcases the potential of quantum computing to provide significant speedups over classical algorithms for certain types of problems.\n",
    "\n",
    "Here's a simple example in Qiskit to demonstrate Grover's Algorithm:"
   ]
  },
  {
   "cell_type": "code",
   "execution_count": 3,
   "metadata": {},
   "outputs": [
    {
     "name": "stdout",
     "output_type": "stream",
     "text": [
      "Counts: {'01': 264, '00': 256, '10': 259, '11': 245}\n"
     ]
    },
    {
     "data": {
      "image/png": "[encoded data removed]",
      "text/plain": [
       "<Figure size 538.128x284.278 with 1 Axes>"
      ]
     },
     "execution_count": 3,
     "metadata": {},
     "output_type": "execute_result"
    }
   ],
   "source": [
    "# Import necessary libraries\n",
    "from qiskit import QuantumCircuit, transpile\n",
    "from qiskit_aer import AerSimulator\n",
    "from qiskit.visualization import plot_histogram\n",
    "import matplotlib.pyplot as plt\n",
    "\n",
    "# Function to create the oracle for Grover's Algorithm\n",
    "def grover_oracle(qc):\n",
    "    qc.cz(0, 1)\n",
    "\n",
    "qc = QuantumCircuit(2, 2) # Create a Quantum Circuit with 2 qubits and 2 classical bits\n",
    "qc.h([0, 1]) # Apply Hadamard gates to put qubits into superposition\n",
    "grover_oracle(qc) # Apply the Grover oracle\n",
    "qc.h([0, 1]) # Apply Hadamard gates again\n",
    "qc.measure([0, 1], [0, 1]) # Measure the qubits\n",
    "# Use the Qiskit Aer simulator to run the circuit\n",
    "simulator = AerSimulator()\n",
    "compiled_circuit = transpile(qc, simulator)\n",
    "result = simulator.run(compiled_circuit).result()\n",
    "counts = result.get_counts() # Get the counts of outcomes\n",
    "print(\"Counts:\", counts)\n",
    "# Visualize the results\n",
    "plot_histogram(counts)\n",
    "plt.show()\n",
    "qc.draw('mpl')"
   ]
  },
  {
   "cell_type": "markdown",
   "metadata": {},
   "source": [
    "In this example, we create a quantum circuit with two qubits. We apply Hadamard gates to create a superposition, then use a simple oracle function to mark the solution, and apply Hadamard gates again before measuring the qubits. The resulting measurement reveals the marked state, demonstrating Grover's search algorithm."
   ]
  }
 ],
 "metadata": {
  "kernelspec": {
   "display_name": "qiskit",
   "language": "python",
   "name": "python3"
  },
  "language_info": {
   "codemirror_mode": {
    "name": "ipython",
    "version": 3
   },
   "file_extension": ".py",
   "mimetype": "text/x-python",
   "name": "python",
   "nbconvert_exporter": "python",
   "pygments_lexer": "ipython3",
   "version": "3.12.4"
  }
 },
 "nbformat": 4,
 "nbformat_minor": 2
}
