{
 "cells": [
  {
   "cell_type": "markdown",
   "metadata": {},
   "source": [
    "##  Quantum Phase Estimation\n",
    "\n",
    "Quantum Phase Estimation (QPE) is a crucial algorithm in quantum computing with wide-ranging applications in chemistry, cryptography, and beyond. It allows us to estimate the phase (or eigenvalue) of an eigenvector of a unitary operator. \n",
    "\n",
    "QPE is the backbone of many quantum algorithms, such as Shor's algorithm for factoring and algorithms for solving linear systems.\n",
    "\n",
    "Below is a step-by-step implementation of the Quantum Phase Estimation algorithm using IBM's Qiskit.\n",
    "\n",
    "In this example, we perform the following steps:\n",
    "\n",
    "✅ Unitary Definition: We define a unitary operation UUU with a known eigenvalue. Here, we use a phase gate with a phase shift of θ=1/8\n",
    "\n",
    "✅ Quantum Circuit Creation: We create a quantum circuit with nnn counting qubits and 1 additional qubit for the unitary operation.\n",
    "\n",
    "✅ Hadamard Gates: We apply Hadamard gates to the counting qubits to create a superposition of states.\n",
    "\n",
    "✅ Controlled-U Gates: We apply controlled-U gates, which apply the unitary operation conditionally on the state of each counting qubit.\n",
    "\n",
    "✅ Inverse Quantum Fourier Transform (QFT): We apply the inverse QFT to the counting qubits to extract the phase information.\n",
    "\n",
    "✅ Measurement: We measure the counting qubits to get the result.\n",
    "\n",
    "✅ Visualization: We visualize the circuit and the measurement results using Qiskit's plotting tools."
   ]
  },
  {
   "cell_type": "code",
   "execution_count": 52,
   "metadata": {},
   "outputs": [],
   "source": [
    "# Import necessary libraries\n",
    "from qiskit import QuantumCircuit, transpile\n",
    "from qiskit.visualization import plot_histogram, plot_bloch_multivector\n",
    "from qiskit_aer import AerSimulator\n",
    "import matplotlib.pyplot as plt\n",
    "import numpy as np\n",
    "\n",
    "%matplotlib inline"
   ]
  },
  {
   "cell_type": "code",
   "execution_count": 53,
   "metadata": {},
   "outputs": [],
   "source": [
    "# Define the unitary operation (in this case, we use a simple gate U)\n",
    "theta = 1/8\n",
    "U = QuantumCircuit(1)"
   ]
  },
  {
   "cell_type": "markdown",
   "metadata": {},
   "source": [
    "The below code  applies a phase gate to the qubit. The phase gate P(λ) is a single-qubit gate that applies a phase shift of λ to the state ∣1⟩.\n",
    "\n",
    "In this case, the phase shift  λ is given by  2⋅π⋅θ, where θ,= 1/8. Thus the phase shift  2⋅π⋅1/8   =  π /4 \n",
    "\n",
    "The method `p` is used to apply the phase gate, and the parameters are:\n",
    "\n",
    "- 2⋅π⋅θ: The phase angle in radians.\n",
    "- 0: The index of the qubit to which the gate is applied (since we have only one qubit, its index is 0)."
   ]
  },
  {
   "cell_type": "code",
   "execution_count": 54,
   "metadata": {},
   "outputs": [
    {
     "data": {
      "text/plain": [
       "<qiskit.circuit.instructionset.InstructionSet at 0x12640feb0>"
      ]
     },
     "execution_count": 54,
     "metadata": {},
     "output_type": "execute_result"
    }
   ],
   "source": [
    "# U is the phase gate\n",
    "U.p(2 * np.pi * theta, 0)  "
   ]
  },
  {
   "cell_type": "markdown",
   "metadata": {},
   "source": [
    "##### Explanation of the code above\n",
    "The code above  applies a phase gate to the qubit. The phase gate P(λ) is a single-qubit gate that applies a phase shift of λ to the state ∣1⟩.\n",
    "\n",
    "In this case, the phase shift  λ is given by  2⋅π⋅θ, where θ,= 1/8. Thus the phase shift  2⋅π⋅1/8   =  π /4 \n",
    "\n",
    "The method `p` is used to apply the phase gate, and the parameters are:\n",
    "\n",
    "- 2⋅π⋅θ: The phase angle in radians.\n",
    "- 0: The index of the qubit to which the gate is applied (since we have only one qubit, its index is 0).\n",
    "\n",
    "Below is further explanation of phase gate."
   ]
  },
  {
   "cell_type": "code",
   "execution_count": 55,
   "metadata": {},
   "outputs": [
    {
     "name": "stdout",
     "output_type": "stream",
     "text": [
      "Phase Gate : P(λ)): The phase gate is a single-qubit rotation about the Z-axis of the Bloch sphere. The matrix representation of the phase gate is:\n"
     ]
    },
    {
     "data": {
      "text/latex": [
       "$\\displaystyle P(\\lambda) = \\begin{pmatrix} 1 & 0 \\\\ 0 & e^{i\\lambda} \\end{pmatrix}$"
      ],
      "text/plain": [
       "<IPython.core.display.Math object>"
      ]
     },
     "metadata": {},
     "output_type": "display_data"
    },
    {
     "name": "stdout",
     "output_type": "stream",
     "text": [
      "In this case, 𝜆 = 𝜋 /4 , so the matrix becomes: \n"
     ]
    },
    {
     "data": {
      "text/latex": [
       "$\\displaystyle P\\left(\\frac{\\pi}{4}\\right) = \\begin{pmatrix} 1 & 0 \\\\ 0 & e^{i\\pi/4} \\end{pmatrix}$"
      ],
      "text/plain": [
       "<IPython.core.display.Math object>"
      ]
     },
     "metadata": {},
     "output_type": "display_data"
    }
   ],
   "source": [
    "from IPython.display import display, Math\n",
    "\n",
    "print(\"Phase Gate : P(λ)): The phase gate is a single-qubit rotation about the Z-axis of the Bloch sphere. The matrix representation of the phase gate is:\")\n",
    "# Display the matrix representation of the phase gate\n",
    "display(Math(r'P(\\lambda) = \\begin{pmatrix} 1 & 0 \\\\ 0 & e^{i\\lambda} \\end{pmatrix}'))\n",
    "print(\"In this case, 𝜆 = 𝜋 /4 , so the matrix becomes: \")\n",
    "display(Math(r'P\\left(\\frac{\\pi}{4}\\right) = \\begin{pmatrix} 1 & 0 \\\\ 0 & e^{i\\pi/4} \\end{pmatrix}'))"
   ]
  },
  {
   "cell_type": "code",
   "execution_count": 56,
   "metadata": {},
   "outputs": [],
   "source": [
    "# Number of qubits for the QPE\n",
    "n = 3  # Number of counting qubits\n",
    "\n",
    "# Create the quantum phase estimation circuit\n",
    "qc = QuantumCircuit(n + 1, n)"
   ]
  },
  {
   "cell_type": "code",
   "execution_count": 57,
   "metadata": {},
   "outputs": [],
   "source": [
    "# Apply Hadamard gates to the counting qubits\n",
    "for qubit in range(n): # This loop iterates over each qubit in the range from 0 to n-1.then applies Hadamard gates\n",
    "    qc.h(qubit)"
   ]
  },
  {
   "cell_type": "markdown",
   "metadata": {},
   "source": [
    "`U.to_gate()` below  converts the phase gate U into a gate object that can be added to the quantum circuit.\n",
    "\n",
    "`.control(1)` creates a controlled version of the gate U with 1 control qubit.\n",
    "\n",
    "`[qubit, n]`  specifies the qubits to which the controlled gate is applied. qubit is the target qubit, and n is the control qubit.\n",
    "\n",
    "Controlled gates are a fundamental concept in quantum computing where an operation is performed on a target qubit only if the control qubit is in a specific state (usually ∣1⟩). The controlled phase gate CU(λ) will apply the phase shift to the target qubit if the control qubit is∣1⟩."
   ]
  },
  {
   "cell_type": "code",
   "execution_count": 58,
   "metadata": {},
   "outputs": [],
   "source": [
    "# Apply controlled-U gates\n",
    "for qubit in range(n): # This loop iterates over each qubit in the range from 0 to n-1 then applies controlled-U gates.\n",
    "    qc.append(U.to_gate().control(1), [qubit, n]) "
   ]
  },
  {
   "cell_type": "code",
   "execution_count": 59,
   "metadata": {},
   "outputs": [],
   "source": [
    "# Apply inverse QFT to the counting qubits\n",
    "def qft_dagger(circuit, n):\n",
    "    \"\"\"Apply the inverse QFT on the first n qubits in the circuit\"\"\"\n",
    "    for qubit in range(n//2):\n",
    "        circuit.swap(qubit, n-1-qubit)\n",
    "    for j in range(n):\n",
    "        for m in range(j):\n",
    "            circuit.cp(-np.pi/float(2**(j-m)), m, j)\n",
    "        circuit.h(j)\n",
    "\n",
    "qft_dagger(qc, n)"
   ]
  },
  {
   "cell_type": "code",
   "execution_count": 60,
   "metadata": {},
   "outputs": [
    {
     "data": {
      "text/plain": [
       "<qiskit.circuit.instructionset.InstructionSet at 0x1262e2ce0>"
      ]
     },
     "execution_count": 60,
     "metadata": {},
     "output_type": "execute_result"
    }
   ],
   "source": [
    "# Measure the counting qubits\n",
    "qc.measure(range(n), range(n))"
   ]
  },
  {
   "cell_type": "code",
   "execution_count": 61,
   "metadata": {},
   "outputs": [
    {
     "data": {
      "image/png": "[encoded data removed]",
      "text/plain": [
       "<Figure size 1792.5x451.5 with 1 Axes>"
      ]
     },
     "metadata": {},
     "output_type": "display_data"
    }
   ],
   "source": [
    "# Draw the circuit\n",
    "qc.draw('mpl')\n",
    "plt.show()"
   ]
  },
  {
   "cell_type": "code",
   "execution_count": 62,
   "metadata": {},
   "outputs": [],
   "source": [
    "# Simulate the circuit\n",
    "simulator = AerSimulator()\n",
    "compiled_circuit = transpile(qc, simulator)"
   ]
  },
  {
   "cell_type": "code",
   "execution_count": 63,
   "metadata": {},
   "outputs": [],
   "source": [
    "# Execute the circuit on the simulator\n",
    "result = simulator.run(compiled_circuit).result()"
   ]
  },
  {
   "cell_type": "code",
   "execution_count": 64,
   "metadata": {},
   "outputs": [
    {
     "data": {
      "image/png": "[encoded data removed]",
      "text/plain": [
       "<Figure size 640x480 with 1 Axes>"
      ]
     },
     "metadata": {},
     "output_type": "display_data"
    }
   ],
   "source": [
    "# Get and plot the counts\n",
    "counts = result.get_counts(qc)\n",
    "plot_histogram(counts)\n",
    "plt.show()"
   ]
  },
  {
   "cell_type": "markdown",
   "metadata": {},
   "source": [
    "Quantum Phase Estimation is a powerful algorithm that forms the basis of many quantum applications. Understanding and implementing QPE can provide deep insights into the potential of quantum computing."
   ]
  }
 ],
 "metadata": {
  "kernelspec": {
   "display_name": "qiskit",
   "language": "python",
   "name": "python3"
  },
  "language_info": {
   "codemirror_mode": {
    "name": "ipython",
    "version": 3
   },
   "file_extension": ".py",
   "mimetype": "text/x-python",
   "name": "python",
   "nbconvert_exporter": "python",
   "pygments_lexer": "ipython3",
   "version": "3.12.4"
  }
 },
 "nbformat": 4,
 "nbformat_minor": 2
}
