{
 "cells": [
  {
   "cell_type": "markdown",
   "metadata": {},
   "source": [
    "### Variational Quantum Eigensolver (VQE) \n",
    "\n",
    "Variational Quantum Eigensolver (VQE) is a hybrid quantum-classical algorithm used to find the ground state energy of a quantum system. \n",
    "\n",
    "VQE leverages the variational principle, which states that the ground state energy of a system is the minimum expectation value of the Hamiltonian, and uses a quantum computer to evaluate this expectation value.\n",
    "\n",
    "VQE is particularly useful in quantum chemistry for finding the ground state energies of molecules, which is a computationally intensive task for classical computers.\n",
    "\n",
    "Below is an example of implementing VQE using IBM's Qiskit.\n",
    "\n",
    "In this example, we perform the following steps:\n",
    "\n",
    "Quantum Phase Estimation\n",
    "\n",
    "Quantum Phase Estimation (QPE) is a crucial algorithm in quantum computing with wide-ranging applications in chemistry, cryptography, and beyond. It allows us to estimate the phase (or eigenvalue) of an eigenvector of a unitary operator. \n",
    "\n",
    "QPE is the backbone of many quantum algorithms, such as Shor's algorithm for factoring and algorithms for solving linear systems.\n",
    "\n",
    "Below is a step-by-step implementation of the Quantum Phase Estimation algorithm using IBM's Qiskit.\n",
    "\n",
    "In this example, we perform the following steps:\n",
    "\n",
    "✅ Hamiltonian Definition: We define the Hamiltonian of the system. Here, we use a simple Hamiltonian H=ZI+IZ+ZZH = ZI + IZ + ZZH=ZI+IZ+ZZ.\n",
    "\n",
    "✅ Variational Ansatz: We create a quantum circuit for the variational ansatz using the EfficientSU2 circuit from Qiskit's circuit library.\n",
    "\n",
    "✅ Simulator Initialization: We initialize the AerSimulator to simulate the quantum circuit.\n",
    "\n",
    "✅ Optimizer Definition: We use the COBYLA optimizer to find the parameters that minimize the expectation value of the Hamiltonian.\n",
    "\n",
    "✅ Objective Function: We define an objective function that computes the expectation value of the Hamiltonian for given parameters.\n",
    "\n",
    "✅ Parameter Optimization: We optimize the parameters of the variational ansatz to minimize the objective function.\n",
    "\n",
    "✅ Results and Visualization: We print the optimized parameters and the corresponding minimum energy. We also visualize the final optimized circuit.\n",
    "\n",
    "VQE is a powerful technique that bridges quantum and classical computing, enabling us to solve complex problems in quantum chemistry and other fields. By understanding and implementing VQE, we can harness the power of quantum computing to find solutions to challenging computational problems.\n",
    "\n",
    "Stay tuned for more quantum computing concepts and implementations!"
   ]
  },
  {
   "cell_type": "code",
   "execution_count": 46,
   "metadata": {},
   "outputs": [],
   "source": [
    "# Import necessary libraries\n",
    "from qiskit import QuantumCircuit, transpile\n",
    "from qiskit_aer import AerSimulator\n",
    "from qiskit.primitives import Estimator\n",
    "from qiskit.circuit.library import EfficientSU2\n",
    "from qiskit_algorithms.optimizers import COBYLA\n",
    "from qiskit.quantum_info import SparsePauliOp, Pauli\n",
    "import numpy as np\n",
    "import matplotlib.pyplot as plt\n",
    "\n",
    "%matplotlib inline "
   ]
  },
  {
   "cell_type": "code",
   "execution_count": 33,
   "metadata": {},
   "outputs": [],
   "source": [
    "# Define the Hamiltonian of the system\n",
    "# In this example, we use a simple Hamiltonian: H = ZI + IZ + ZZ\n",
    "pauli_list = [Pauli('ZI'), Pauli('IZ'), Pauli('ZZ')]\n",
    "coefficients = [1.0, 1.0, 1.0]\n",
    "H = SparsePauliOp(pauli_list, coefficients)"
   ]
  },
  {
   "cell_type": "code",
   "execution_count": 34,
   "metadata": {},
   "outputs": [],
   "source": [
    "# Define a quantum circuit for the variational ansatz\n",
    "num_qubits = 2\n",
    "ansatz = EfficientSU2(num_qubits, entanglement='linear')"
   ]
  },
  {
   "cell_type": "code",
   "execution_count": 35,
   "metadata": {},
   "outputs": [],
   "source": [
    "# Initialize the simulator\n",
    "simulator = AerSimulator()"
   ]
  },
  {
   "cell_type": "code",
   "execution_count": 36,
   "metadata": {},
   "outputs": [],
   "source": [
    "# Define the optimizer\n",
    "optimizer = COBYLA(maxiter=200)"
   ]
  },
  {
   "cell_type": "code",
   "execution_count": 37,
   "metadata": {},
   "outputs": [],
   "source": [
    "# Function to compute the expectation value of the Hamiltonian\n",
    "def objective_function(params):\n",
    "    bound_circuit = ansatz.assign_parameters(params)\n",
    "    compiled_circuit = transpile(bound_circuit, simulator)\n",
    "    estimator = Estimator()\n",
    "    result = estimator.run(compiled_circuit, H).result()\n",
    "    return np.real(result.values[0])"
   ]
  },
  {
   "cell_type": "code",
   "execution_count": 38,
   "metadata": {},
   "outputs": [],
   "source": [
    "# Initial parameters\n",
    "initial_params = np.random.random(ansatz.num_parameters)"
   ]
  },
  {
   "cell_type": "code",
   "execution_count": 39,
   "metadata": {},
   "outputs": [],
   "source": [
    "# Optimize the parameters to minimize the expectation value of the Hamiltonian\n",
    "result = optimizer.minimize(objective_function, initial_params)"
   ]
  },
  {
   "cell_type": "code",
   "execution_count": 40,
   "metadata": {},
   "outputs": [],
   "source": [
    "# Get the optimized parameters and the corresponding minimum energy\n",
    "optimized_params, minimum_energy = result.x, result.fun"
   ]
  },
  {
   "cell_type": "code",
   "execution_count": 41,
   "metadata": {},
   "outputs": [
    {
     "name": "stdout",
     "output_type": "stream",
     "text": [
      "Optimized Parameters: [ 2.08108747  1.30087472  0.03777235 -0.0419978   1.21282254  1.6054024\n",
      "  0.04199909  0.55527747  0.4009233   1.21385007  2.13099163  0.27653605\n",
      " -0.01352084  0.88356434  1.91367378  0.62862046]\n",
      "Minimum Energy: -0.9999999988866363\n"
     ]
    }
   ],
   "source": [
    "# Print the results\n",
    "print(\"Optimized Parameters:\", optimized_params)\n",
    "print(\"Minimum Energy:\", minimum_energy)"
   ]
  },
  {
   "cell_type": "code",
   "execution_count": 47,
   "metadata": {},
   "outputs": [
    {
     "data": {
      "image/png": "[encoded data removed]",
      "text/plain": [
       "<Figure size 956.183x200.667 with 1 Axes>"
      ]
     },
     "metadata": {},
     "output_type": "display_data"
    }
   ],
   "source": [
    "# Visualize the final circuit\n",
    "optimized_circuit = ansatz.assign_parameters(optimized_params)\n",
    "optimized_circuit.draw('mpl')\n",
    "plt.show()"
   ]
  }
 ],
 "metadata": {
  "kernelspec": {
   "display_name": "qiskit",
   "language": "python",
   "name": "python3"
  },
  "language_info": {
   "codemirror_mode": {
    "name": "ipython",
    "version": 3
   },
   "file_extension": ".py",
   "mimetype": "text/x-python",
   "name": "python",
   "nbconvert_exporter": "python",
   "pygments_lexer": "ipython3",
   "version": "3.12.4"
  }
 },
 "nbformat": 4,
 "nbformat_minor": 2
}
