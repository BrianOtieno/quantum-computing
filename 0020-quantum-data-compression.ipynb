{
 "cells": [
  {
   "cell_type": "markdown",
   "metadata": {},
   "source": []
  },
  {
   "cell_type": "markdown",
   "metadata": {},
   "source": [
    "## Quantum Data Compression\n",
    "\n",
    "Data compression is crucial in both classical and quantum computing, enabling efficient storage and transmission of information. Quantum data compression leverages the principles of quantum mechanics to compress data in ways that classical methods cannot match. Understanding and implementing quantum data compression can revolutionize data handling, especially for large datasets encountered in fields like quantum machine learning and quantum communication.\n",
    "\n",
    "In classical computing, data compression techniques like Huffman coding and Lempel-Ziv-Welch (LZW) aim to reduce the size of data by eliminating redundancies. Quantum data compression, on the other hand, utilizes quantum algorithms that can exploit quantum superposition and entanglement to achieve compression more efficiently. For instance, Schumacher compression, a quantum analog of classical data compression, can compress a quantum source optimally according to the von Neumann entropy.\n",
    "\n",
    "The potential applications of quantum data compression are vast. In quantum communication, it can reduce the number of qubits needed to transmit information, enhancing the efficiency of quantum networks. In quantum machine learning, compressed quantum data can accelerate training processes and reduce resource requirements. Additionally, quantum data compression can play a significant role in quantum cryptography, where efficient storage and transmission of quantum keys are essential.\n",
    "\n",
    "Implementing quantum data compression in Qiskit involves understanding quantum circuits and algorithms designed for this purpose. Quantum circuits for data compression typically involve operations that encode the input data into fewer qubits while preserving the essential information. This requires a good grasp of quantum gates, measurements, and quantum states.\n",
    "\n",
    "Using Qiskit, you can simulate and test various quantum data compression algorithms. Qiskit provides tools to create and manipulate quantum circuits, allowing you to experiment with different approaches to quantum data compression. For example, you can design a circuit that implements Schumacher compression and analyze its performance on different quantum datasets.\n",
    "\n",
    "As quantum technology advances, the importance of quantum data compression will grow. Researchers and practitioners who master these techniques will be at the forefront of innovation in quantum computing. Quantum data compression not only promises to make quantum communication and computation more efficient but also opens up new possibilities in quantum information theory.\n",
    "\n",
    "The future of data compression lies in the quantum realm. By leveraging the unique properties of quantum mechanics, quantum data compression can achieve levels of efficiency and performance that classical methods cannot. Embracing these advancements will be key to unlocking the full potential of quantum technologies in various domains.\n",
    "\n",
    "### Neumann Entropy\n",
    "\n",
    "Neumann entropy is a measure of uncertainty or disorder in a system. It finds applications in information theory and statistical mechanics. Here's the formula for Neumann entropy:\n",
    "\n",
    "$$S_N = -\\sum_{i=1}^{N} p_i \\ln(p_i)$$\n",
    "\n",
    "**Explanation:**\n",
    "\n",
    "* **S_N**: Represents Neumann entropy.\n",
    "* **Σ (summation):** Iterates over all possible states, denoted by `i`, from 1 to the total number of states, `N`.\n",
    "* **p_i**: Represents the probability of state `i` occurring.\n",
    "* **ln(p_i)**: Natural logarithm of the probability `p_i`. The natural logarithm is used because it offers convenient properties when working with probabilities.\n",
    "\n",
    "**Understanding the Formula:**\n",
    "\n",
    "- Neumann entropy calculates the average information content (surprise level) associated with the possible states of a system.\n",
    "- Higher probabilities (closer to 1) contribute less to the entropy as there's less uncertainty about those states.\n",
    "- Conversely, lower probabilities (closer to 0) lead to higher entropy due to the increased uncertainty associated with those states. \n"
   ]
  },
  {
   "cell_type": "code",
   "execution_count": 1,
   "metadata": {},
   "outputs": [],
   "source": [
    "from qiskit import QuantumCircuit, transpile\n",
    "from qiskit_aer import AerSimulator\n",
    "from qiskit.visualization import plot_histogram\n",
    "from qiskit.quantum_info import random_statevector, DensityMatrix, entropy\n",
    "import matplotlib.pyplot as plt\n",
    "\n",
    "%matplotlib inline"
   ]
  },
  {
   "cell_type": "code",
   "execution_count": 2,
   "metadata": {},
   "outputs": [],
   "source": [
    "# Generate a random quantum state\n",
    "state = random_statevector(2**3)"
   ]
  },
  {
   "cell_type": "code",
   "execution_count": 3,
   "metadata": {},
   "outputs": [],
   "source": [
    "# Convert the state to a density matrix\n",
    "density_matrix = DensityMatrix(state)"
   ]
  },
  {
   "cell_type": "code",
   "execution_count": 4,
   "metadata": {},
   "outputs": [
    {
     "name": "stdout",
     "output_type": "stream",
     "text": [
      "Von Neumann Entropy: 3.8977447815341365e-15\n"
     ]
    }
   ],
   "source": [
    "# Calculate the von Neumann entropy\n",
    "von_neumann_entropy = entropy(density_matrix)\n",
    "\n",
    "print(f\"Von Neumann Entropy: {von_neumann_entropy}\")"
   ]
  },
  {
   "cell_type": "code",
   "execution_count": 5,
   "metadata": {},
   "outputs": [],
   "source": [
    "# Create a Quantum Circuit with 3 qubits and 3 classical bits\n",
    "qc = QuantumCircuit(3, 3)"
   ]
  },
  {
   "cell_type": "code",
   "execution_count": 6,
   "metadata": {},
   "outputs": [
    {
     "data": {
      "text/plain": [
       "<qiskit.circuit.instructionset.InstructionSet at 0x1215d7850>"
      ]
     },
     "execution_count": 6,
     "metadata": {},
     "output_type": "execute_result"
    }
   ],
   "source": [
    "# Initialize the circuit with the random state\n",
    "qc.initialize(state, [0, 1, 2])"
   ]
  },
  {
   "cell_type": "code",
   "execution_count": 7,
   "metadata": {},
   "outputs": [
    {
     "data": {
      "text/plain": [
       "<qiskit.circuit.instructionset.InstructionSet at 0x12aec7310>"
      ]
     },
     "execution_count": 7,
     "metadata": {},
     "output_type": "execute_result"
    }
   ],
   "source": [
    "# Measure all qubits\n",
    "qc.measure([0, 1, 2], [0, 1, 2])"
   ]
  },
  {
   "cell_type": "code",
   "execution_count": 15,
   "metadata": {},
   "outputs": [
    {
     "data": {
      "image/png": "[encoded data removed]",
      "text/plain": [
       "<Figure size 1458.05x367.889 with 1 Axes>"
      ]
     },
     "metadata": {},
     "output_type": "display_data"
    }
   ],
   "source": [
    "# Draw the circuit\n",
    "qc.draw('mpl')\n",
    "plt.show()"
   ]
  },
  {
   "cell_type": "code",
   "execution_count": 9,
   "metadata": {},
   "outputs": [],
   "source": [
    "# Initialize the Qiskit Aer simulator\n",
    "simulator = AerSimulator()"
   ]
  },
  {
   "cell_type": "code",
   "execution_count": 10,
   "metadata": {},
   "outputs": [],
   "source": [
    "# Transpile the circuit for the simulator\n",
    "compiled_circuit = transpile(qc, simulator)"
   ]
  },
  {
   "cell_type": "code",
   "execution_count": 11,
   "metadata": {},
   "outputs": [],
   "source": [
    "# Execute the circuit on the Qiskit Aer simulator\n",
    "job = simulator.run(compiled_circuit, shots=1024)"
   ]
  },
  {
   "cell_type": "code",
   "execution_count": 12,
   "metadata": {},
   "outputs": [],
   "source": [
    "# Get the  results\n",
    "result = job.result()"
   ]
  },
  {
   "cell_type": "code",
   "execution_count": 13,
   "metadata": {},
   "outputs": [],
   "source": [
    "# Get the measurement results\n",
    "counts = result.get_counts(compiled_circuit)\n"
   ]
  },
  {
   "cell_type": "code",
   "execution_count": 14,
   "metadata": {},
   "outputs": [
    {
     "data": {
      "image/png": "[encoded data removed]",
      "text/plain": [
       "<Figure size 640x480 with 1 Axes>"
      ]
     },
     "metadata": {},
     "output_type": "display_data"
    }
   ],
   "source": [
    "# Plot the histogram\n",
    "plot_histogram(counts)\n",
    "plt.show()"
   ]
  }
 ],
 "metadata": {
  "kernelspec": {
   "display_name": "qiskit",
   "language": "python",
   "name": "python3"
  },
  "language_info": {
   "codemirror_mode": {
    "name": "ipython",
    "version": 3
   },
   "file_extension": ".py",
   "mimetype": "text/x-python",
   "name": "python",
   "nbconvert_exporter": "python",
   "pygments_lexer": "ipython3",
   "version": "3.12.4"
  }
 },
 "nbformat": 4,
 "nbformat_minor": 2
}
