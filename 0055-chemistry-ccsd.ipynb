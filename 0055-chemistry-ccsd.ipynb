{
 "cells": [
  {
   "cell_type": "markdown",
   "metadata": {},
   "source": [
    "Electronic structure calculations are critical in understanding the quantum behavior of molecules, particularly for predicting their properties and reactions. While Hartree-Fock (HF) theory provides a foundational approximation for molecular wavefunctions, it fails to capture the nuances of electron correlation—an essential aspect of accurately modeling molecular systems. To address this, Post-Hartree-Fock methods have been developed, one of the most sophisticated being Coupled-Cluster with Single and Double excitations (CCSD).\n",
    "\n",
    "CCSD builds upon the HF method by systematically incorporating electron correlation effects. In HF theory, electrons are considered independent, moving in an average field created by other electrons. This approximation neglects the dynamic interaction between electrons, which is vital for precision in electronic structure calculations. CCSD extends this framework by including excitations from the reference Hartree-Fock wavefunction, accounting for interactions between occupied and virtual orbitals. Specifically, CCSD accounts for single (S) and double (D) excitations, which model electrons transitioning between states in pairs, ensuring that correlated electron movements are captured in the wavefunction.\n",
    "\n",
    "The mathematical underpinning of CCSD relies on the exponential ansatz, which expresses the correlated wavefunction as an exponential function of excitation operators acting on the Hartree-Fock reference wavefunction. The coupled-cluster equations are derived from the Schrödinger equation and solved iteratively to find the best approximation to the true wavefunction. One of the key advantages of CCSD is that it incorporates a large portion of electron correlation while maintaining computational tractability for systems of modest size.\n",
    "\n",
    "Despite its significant advantages, CCSD is not without limitations. The computational cost grows steeply with the size of the molecular system, making it infeasible for large molecules or systems with many electrons. Nevertheless, the accuracy of CCSD makes it invaluable for small- to medium-sized molecular systems, particularly in fields such as quantum chemistry, material science, and drug discovery, where precise modeling of molecular properties is critical.\n",
    "\n",
    "Looking forward, advancements in quantum computing offer a promising avenue to mitigate the computational challenges associated with CCSD. Quantum algorithms for simulating electronic structure, such as the Quantum Phase Estimation (QPE) algorithm or the Variational Quantum Eigensolver (VQE), have the potential to accelerate the solution of coupled-cluster equations on quantum hardware. This could enable researchers to apply CCSD-level accuracy to larger and more complex systems that are currently beyond the reach of classical computers.\n",
    "\n",
    "In conclusion, CCSD is a cornerstone in the realm of Post-Hartree-Fock methods, providing a sophisticated yet computationally feasible approach to capturing electron correlation in molecular systems. As quantum computing technology continues to mature, the possibility of extending these calculations to larger systems holds exciting prospects for the future of quantum chemistry and related fields."
   ]
  },
  {
   "cell_type": "markdown",
   "metadata": {},
   "source": [
    "### Coupled-Cluster Energy Formula (CCSD)\n",
    "\n",
    "The total energy of a system in the Coupled Cluster Singles and Doubles (CCSD) method is given by:\n",
    "\n",
    "$$\n",
    "E_{CCSD} = \\langle \\Phi_0 | \\hat{H} e^{\\hat{T}_1 + \\hat{T}_2} | \\Phi_0 \\rangle\n",
    "$$\n",
    "\n",
    "where:\n",
    "\n",
    "- $\\hat{H}$ is the electronic Hamiltonian,\n",
    "- $\\hat{T}_1$ and $\\hat{T}_2$ are the cluster operators corresponding to single and double excitations, respectively,\n",
    "- $\\Phi_0$ is the reference Hartree-Fock wavefunction.\n",
    "\n",
    "The operators $\\hat{T}_1$ and $\\hat{T}_2$ are defined as:\n",
    "\n",
    "$$\n",
    "\\hat{T}_1 = \\sum_{ia} t_i^a \\hat{a}_a^\\dagger \\hat{a}_i\n",
    "$$\n",
    "\n",
    "$$\n",
    "\\hat{T}_2 = \\frac{1}{4} \\sum_{ijab} t_{ij}^{ab} \\hat{a}_a^\\dagger \\hat{a}_b^\\dagger \\hat{a}_i \\hat{a}_j\n",
    "$$\n",
    "\n",
    "where:\n",
    "\n",
    "- $t_i^a$ are the single excitation amplitudes,\n",
    "- $t_{ij}^{ab}$ are the double excitation amplitudes,\n",
    "- $\\hat{a}_i, \\hat{a}_j$ are annihilation operators for occupied orbitals, and $\\hat{a}_a^\\dagger, \\hat{a}_b^\\dagger$ are creation operators for virtual orbitals."
   ]
  },
  {
   "cell_type": "code",
   "execution_count": 1,
   "metadata": {},
   "outputs": [],
   "source": [
    "# Import necessary libraries\n",
    "from qiskit import QuantumCircuit, transpile\n",
    "from qiskit.quantum_info import SparsePauliOp\n",
    "from qiskit_aer import AerSimulator\n",
    "from qiskit_algorithms import VQE\n",
    "from qiskit.primitives import Estimator  # New Estimator class\n",
    "from qiskit.circuit.library import EfficientSU2\n",
    "from qiskit_algorithms.optimizers import COBYLA\n",
    "import matplotlib.pyplot as plt \n",
    "\n",
    "%matplotlib inline"
   ]
  },
  {
   "cell_type": "code",
   "execution_count": 2,
   "metadata": {},
   "outputs": [],
   "source": [
    "# Define the H2 molecular Hamiltonian manually, ensuring all terms act on 2 qubits\n",
    "pauli_dict = {\n",
    "    \"XX\": -0.5,   # XX on qubits 0 and 1\n",
    "    \"YY\": -0.5,   # YY on qubits 0 and 1\n",
    "    \"ZZ\": 0.6,    # ZZ on qubits 0 and 1\n",
    "    \"II\": -1.0    # Identity on both qubits\n",
    "}"
   ]
  },
  {
   "cell_type": "code",
   "execution_count": 3,
   "metadata": {},
   "outputs": [],
   "source": [
    "# Construct the Hamiltonian using SparsePauliOp\n",
    "hamiltonian = SparsePauliOp.from_list([(key, value) for key, value in pauli_dict.items()])"
   ]
  },
  {
   "cell_type": "code",
   "execution_count": 4,
   "metadata": {},
   "outputs": [],
   "source": [
    "# Initialize the quantum circuit using EfficientSU2 for the UCCSD approximation\n",
    "num_qubits = 2\n",
    "ansatz = EfficientSU2(num_qubits, reps=2)"
   ]
  },
  {
   "cell_type": "code",
   "execution_count": 5,
   "metadata": {},
   "outputs": [],
   "source": [
    "# Set up the VQE algorithm with the COBYLA optimizer\n",
    "optimizer = COBYLA(maxiter=200)\n",
    "backend = AerSimulator()"
   ]
  },
  {
   "cell_type": "code",
   "execution_count": 6,
   "metadata": {},
   "outputs": [],
   "source": [
    "# Set up the Estimator primitive, required by the VQE algorithm\n",
    "estimator = Estimator()"
   ]
  },
  {
   "cell_type": "code",
   "execution_count": 7,
   "metadata": {},
   "outputs": [],
   "source": [
    "# Set up the VQE algorithm using the Estimator\n",
    "vqe = VQE(estimator, ansatz, optimizer)"
   ]
  },
  {
   "cell_type": "code",
   "execution_count": 8,
   "metadata": {},
   "outputs": [
    {
     "name": "stdout",
     "output_type": "stream",
     "text": [
      "Ground state energy: -2.599857566813046\n"
     ]
    }
   ],
   "source": [
    "# Run VQE to find the minimum eigenvalue (ground state energy)\n",
    "result = vqe.compute_minimum_eigenvalue(hamiltonian)\n",
    "print(f\"Ground state energy: {result.eigenvalue.real}\")"
   ]
  },
  {
   "cell_type": "code",
   "execution_count": 9,
   "metadata": {},
   "outputs": [],
   "source": [
    "# Transpile the quantum circuit for the Aer simulator\n",
    "qc = transpile(ansatz, backend)"
   ]
  },
  {
   "cell_type": "code",
   "execution_count": 10,
   "metadata": {},
   "outputs": [
    {
     "data": {
      "image/png": "[encoded data removed]",
      "text/plain": [
       "<Figure size 788.961x200.667 with 1 Axes>"
      ]
     },
     "metadata": {},
     "output_type": "display_data"
    }
   ],
   "source": [
    "# Draw circuit\n",
    "qc.draw(output='mpl')\n",
    "plt.show()\n",
    "\n"
   ]
  }
 ],
 "metadata": {
  "kernelspec": {
   "display_name": "qiskit",
   "language": "python",
   "name": "python3"
  },
  "language_info": {
   "codemirror_mode": {
    "name": "ipython",
    "version": 3
   },
   "file_extension": ".py",
   "mimetype": "text/x-python",
   "name": "python",
   "nbconvert_exporter": "python",
   "pygments_lexer": "ipython3",
   "version": "3.12.4"
  }
 },
 "nbformat": 4,
 "nbformat_minor": 2
}
