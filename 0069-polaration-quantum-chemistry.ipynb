{
 "cells": [
  {
   "cell_type": "markdown",
   "metadata": {},
   "source": [
    "# Polaration in Quantum Chemistry"
   ]
  },
  {
   "cell_type": "markdown",
   "metadata": {},
   "source": [
    "Quantum chemistry is entering a revolutionary phase, with polariton chemistry emerging as a cutting-edge area of research. Polariton chemistry explores the formation of hybrid light-matter states, known as polaritons, achieved by coupling molecules to optical cavities. These polaritons arise from the strong interaction between molecular excitations and the electromagnetic fields confined within the cavities. This interplay creates new quantum states that blend the properties of light and matter, offering unprecedented control over chemical systems.\n",
    "\n",
    "\n",
    "\n",
    "One of the most remarkable aspects of polaritons is their ability to alter reaction dynamics. By modifying the potential energy landscapes of molecules, these hybrid states can shift reaction pathways in ways that were once deemed impossible. This ability to reshape chemical processes holds enormous potential for enhancing reaction selectivity, reducing energy barriers, and driving reactions toward desired products with greater efficiency. In doing so, polaritons may unlock opportunities for designing novel catalytic processes and materials.\n",
    "\n",
    "\n",
    "\n",
    "The role of optical cavities in this domain cannot be understated. By carefully tuning the properties of these cavities, researchers can influence the strength of the light-matter coupling, which in turn determines the characteristics of the resulting polaritons. This precise engineering enables the exploration of complex quantum phenomena, from modifying the vibrational states of molecules to introducing entirely new chemical reactivities. The interplay between cavity modes and molecular excitations offers a new perspective on chemical processes that are deeply rooted in quantum mechanics.\n",
    "\n",
    "\n",
    "\n",
    "Polariton chemistry is more than a theoretical curiosity; it is a rapidly evolving field with practical implications. From applications in energy-efficient chemical synthesis to advances in molecular photophysics, the study of polaritons has the potential to transform industries. It is particularly exciting to consider how this field can contribute to the development of next-generation materials, where the ability to tune light-matter interactions at the molecular level could lead to breakthroughs in optoelectronics, quantum sensing, and sustainable chemistry.\n",
    "\n",
    "\n",
    "\n",
    "At the intersection of quantum computing and polariton chemistry lies the opportunity to simulate these systems with unparalleled accuracy. Quantum algorithms, implemented on platforms like Qiskit, allow us to explore the fundamental principles of light-matter coupling in optical cavities. By modeling polariton formation and investigating their impact on reaction dynamics, we can better understand their quantum mechanical properties and harness their potential for real-world applications.\n",
    "\n",
    "\n",
    "\n",
    "This convergence of light, matter, and quantum computation offers a glimpse into a future where we control chemical reactions with precision and unlock entirely new possibilities. "
   ]
  },
  {
   "cell_type": "code",
   "execution_count": 1,
   "metadata": {},
   "outputs": [],
   "source": [
    "from qiskit import QuantumCircuit\n",
    "from qiskit.quantum_info import SparsePauliOp\n",
    "from qiskit_algorithms.time_evolvers import TimeEvolutionProblem, TrotterQRTE\n",
    "from qiskit.primitives import Estimator\n",
    "from qiskit_aer import AerSimulator\n",
    "from qiskit_algorithms.time_evolvers import TimeEvolutionResult\n",
    "import matplotlib.pyplot as plt\n",
    "from qiskit.visualization import plot_state_city\n",
    "import numpy as np\n",
    "\n",
    "import warnings\n",
    "warnings.filterwarnings('ignore')"
   ]
  },
  {
   "cell_type": "code",
   "execution_count": 2,
   "metadata": {},
   "outputs": [],
   "source": [
    "# Define constants\n",
    "omega_m = 1.0  # Molecular excitation energy (arb. units)\n",
    "omega_c = 1.0  # Optical cavity mode energy (arb. units)\n",
    "g = 0.1        # Coupling strength between molecule and cavity\n",
    "time = 1.0     # Time of evolution"
   ]
  },
  {
   "cell_type": "code",
   "execution_count": 3,
   "metadata": {},
   "outputs": [],
   "source": [
    "# Define the Pauli operators for a two-qubit system\n",
    "# Pauli operators act on the molecule (qubit 0) and the cavity (qubit 1)\n",
    "Z_molecule = SparsePauliOp([\"IZ\"], [omega_m / 2])  # Molecular excitation\n",
    "Z_cavity = SparsePauliOp([\"ZI\"], [omega_c / 2])    # Cavity mode\n",
    "X_molecule_cavity = SparsePauliOp([\"XX\"], [g])    # Coupling term (X ⊗ X)\n",
    "Y_molecule_cavity = SparsePauliOp([\"YY\"], [g])    # Coupling term (Y ⊗ Y)"
   ]
  },
  {
   "cell_type": "code",
   "execution_count": 4,
   "metadata": {},
   "outputs": [],
   "source": [
    "# Construct the total Hamiltonian\n",
    "H_molecule = Z_molecule\n",
    "H_cavity = Z_cavity\n",
    "H_interaction = X_molecule_cavity + Y_molecule_cavity\n",
    "H_total = H_molecule + H_cavity + H_interaction"
   ]
  },
  {
   "cell_type": "code",
   "execution_count": 5,
   "metadata": {},
   "outputs": [
    {
     "data": {
      "text/plain": [
       "<qiskit.circuit.instructionset.InstructionSet at 0x129278f70>"
      ]
     },
     "execution_count": 5,
     "metadata": {},
     "output_type": "execute_result"
    }
   ],
   "source": [
    "# Prepare the initial state: ground state of the molecule and cavity\n",
    "qc = QuantumCircuit(2)  # Two qubits for molecule and cavity\n",
    "qc.x(0)  # Start with the molecule in |1⟩ and the cavity in |0⟩"
   ]
  },
  {
   "cell_type": "code",
   "execution_count": 6,
   "metadata": {},
   "outputs": [
    {
     "data": {
      "image/png": "[encoded data removed]",
      "text/plain": [
       "<Figure size 203.683x200.667 with 1 Axes>"
      ]
     },
     "execution_count": 6,
     "metadata": {},
     "output_type": "execute_result"
    }
   ],
   "source": [
    "# Visualize the circuit\n",
    "qc.draw('mpl')"
   ]
  },
  {
   "cell_type": "code",
   "execution_count": 7,
   "metadata": {},
   "outputs": [],
   "source": [
    "# Set up the Trotterized time evolution method\n",
    "trotter = TrotterQRTE()  # Trotterized Quantum Real Time Evolution"
   ]
  },
  {
   "cell_type": "code",
   "execution_count": 8,
   "metadata": {},
   "outputs": [],
   "source": [
    "# Define the time evolution problem\n",
    "evolution_problem = TimeEvolutionProblem(\n",
    "    hamiltonian=H_total,\n",
    "    initial_state=qc,\n",
    "    time=time\n",
    ")"
   ]
  },
  {
   "cell_type": "code",
   "execution_count": 9,
   "metadata": {},
   "outputs": [],
   "source": [
    "# Simulate the time evolution\n",
    "simulator = AerSimulator()\n",
    "trotter_result: TimeEvolutionResult = trotter.evolve(evolution_problem)"
   ]
  },
  {
   "cell_type": "code",
   "execution_count": 10,
   "metadata": {},
   "outputs": [],
   "source": [
    "# Retrieve the statevector from the simulation result\n",
    "statevector = trotter_result.evolved_state.data"
   ]
  },
  {
   "cell_type": "code",
   "execution_count": 11,
   "metadata": {},
   "outputs": [],
   "source": [
    "# Calculate the expectation value of the Hamiltonian\n",
    "estimator = Estimator()\n",
    "energy = estimator.run(\n",
    "    circuits=[trotter_result.evolved_state],\n",
    "    observables=[H_total]\n",
    ").result().values[0]"
   ]
  },
  {
   "cell_type": "code",
   "execution_count": 12,
   "metadata": {},
   "outputs": [
    {
     "name": "stdout",
     "output_type": "stream",
     "text": [
      "Evolved Statevector:\n",
      "[CircuitInstruction(operation=Instruction(name='circuit-166', num_qubits=2, num_clbits=0, params=[]), qubits=(Qubit(QuantumRegister(2, 'q'), 0), Qubit(QuantumRegister(2, 'q'), 1)), clbits=()), CircuitInstruction(operation=Instruction(name='PauliEvolution', num_qubits=2, num_clbits=0, params=[1.0]), qubits=(Qubit(QuantumRegister(2, 'q'), 0), Qubit(QuantumRegister(2, 'q'), 1)), clbits=())]\n",
      "\n",
      "Expectation Value of the Hamiltonian:\n",
      "0.0\n"
     ]
    }
   ],
   "source": [
    "\n",
    "# Output the results\n",
    "print(\"Evolved Statevector:\")\n",
    "print(statevector)\n",
    "print(\"\\nExpectation Value of the Hamiltonian:\")\n",
    "print(energy)\n"
   ]
  }
 ],
 "metadata": {
  "kernelspec": {
   "display_name": "qiskit",
   "language": "python",
   "name": "python3"
  },
  "language_info": {
   "codemirror_mode": {
    "name": "ipython",
    "version": 3
   },
   "file_extension": ".py",
   "mimetype": "text/x-python",
   "name": "python",
   "nbconvert_exporter": "python",
   "pygments_lexer": "ipython3",
   "version": "3.12.6"
  }
 },
 "nbformat": 4,
 "nbformat_minor": 2
}
