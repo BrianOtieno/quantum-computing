{
 "cells": [
  {
   "cell_type": "markdown",
   "metadata": {},
   "source": [
    "### Quantum Amplitude Amplification\n",
    "\n",
    "Quantum Amplitude Amplification (QAA) is a powerful quantum algorithm that generalizes Grover's search algorithm, providing a foundation for various quantum algorithms that offer speedups over their classical counterparts. QAA can amplify the probability amplitude of desired outcomes, making it an essential tool in the quantum computing toolkit.\n",
    "\n",
    "Quantum Amplitude Amplification enhances the probability of finding the correct answer in an unsorted database or solving complex computational problems. While Grover's algorithm is a specific application for unstructured search problems, QAA can be applied to a broader range of problems, including optimization and machine learning.\n",
    "\n",
    "QAA offers a quadratic speedup over classical algorithms for search and optimization problems. If a classical algorithm requires  O(N) operations, QAA can achieve the same result in O(√N) operations.\n",
    "\n",
    "Unlike Grover's algorithm, which is tailored for search problems, QAA is more versatile and can be adapted to various problems by defining appropriate oracle and diffusion operators.\n",
    "\n",
    "Many quantum algorithms, such as Quantum Approximate Optimization Algorithm (QAOA) and Quantum Machine Learning algorithms, build upon the principles of QAA."
   ]
  },
  {
   "cell_type": "markdown",
   "metadata": {},
   "source": [
    "The oracle operator, 𝑂 is a unitary operator that marks the desired state ∣w⟩. It is defined as\n",
    "$$\n",
    "\\begin{cases}\n",
    "-|x\\rangle & \\text{if } x = w (target state) \\\\\n",
    "|x\\rangle & \\text{if } x \\neq w\n",
    "\\end{cases}\n",
    "$$\n",
    "\n",
    "This describes the desired outcome after applying the quantum amplitude amplification algorithm. We want the amplitude of the target state (denoted by $w$ here) to be amplified, while the amplitudes of all other states remain unchanged or are suppressed.\n",
    "\n",
    "#### Diffusion Operator\n",
    "\n",
    "The diffusion operator, $ \\mathcal{D} $, inverts the amplitude of all states about the mean. It is defined as:\n",
    "$$\n",
    "\\mathcal{D} = 2|\\psi\\rangle\\langle\\psi| - I\n",
    "$$\n",
    "where $ |\\psi\\rangle $ is the equal superposition state:\n",
    "$$\n",
    "|\\psi\\rangle = \\frac{1}{\\sqrt{N}} \\sum_{x=0}^{N-1} |x\\rangle\n",
    "$$\n",
    "\n",
    "In quantum amplitude amplification, the diffusion operator acts to spread out the amplitudes of all states towards the equal superposition state (where all basis states have the same amplitude). This is a crucial step in amplifying the target state.\n",
    "\n",
    "#### Grover's Iteration\n",
    "\n",
    "One iteration of the Grover operator, $ G $, is given by:\n",
    "$$\n",
    "G = \\mathcal{D} \\mathcal{O}\n",
    "$$\n",
    "where $\\mathcal{O}$ is the oracle operator that identifies the target state.\n",
    "\n",
    "After $ k $ iterations, the state $ |\\psi\\rangle $ evolves as:\n",
    "$$\n",
    "G^k |\\psi\\rangle\n",
    "$$\n",
    "\n",
    "By repeatedly applying the Grover operator (which combines the diffusion and oracle operations), the amplitude of the target state is amplified, allowing for a higher probability of finding it during measurement. This significantly improves search efficiency compared to classical algorithms for certain problems.\n"
   ]
  },
  {
   "cell_type": "code",
   "execution_count": 2,
   "metadata": {},
   "outputs": [],
   "source": [
    "import numpy as np\n",
    "from qiskit import QuantumCircuit, transpile\n",
    "from qiskit.circuit.library import GroverOperator\n",
    "from qiskit.visualization import plot_histogram\n",
    "from qiskit_aer import AerSimulator\n",
    "import matplotlib.pyplot as plt\n",
    "\n",
    "%matplotlib inline"
   ]
  },
  {
   "cell_type": "code",
   "execution_count": 3,
   "metadata": {},
   "outputs": [],
   "source": [
    "# Define the oracle for the desired state (let's say we want to find state |11>)\n",
    "def oracle():\n",
    "    qc = QuantumCircuit(2)\n",
    "    qc.cz(0, 1)\n",
    "    return qc"
   ]
  },
  {
   "cell_type": "code",
   "execution_count": 4,
   "metadata": {},
   "outputs": [],
   "source": [
    "# Define the diffusion operator (Grover operator)\n",
    "def diffusion_operator():\n",
    "    qc = QuantumCircuit(2)\n",
    "    qc.h([0, 1])\n",
    "    qc.z([0, 1])\n",
    "    qc.cz(0, 1)\n",
    "    qc.h([0, 1])\n",
    "    return qc"
   ]
  },
  {
   "cell_type": "code",
   "execution_count": 5,
   "metadata": {},
   "outputs": [
    {
     "data": {
      "text/plain": [
       "<qiskit.circuit.instructionset.InstructionSet at 0x12004e560>"
      ]
     },
     "execution_count": 5,
     "metadata": {},
     "output_type": "execute_result"
    }
   ],
   "source": [
    "# Create the quantum circuit for QAA\n",
    "qc = QuantumCircuit(2, 2)\n",
    "qc.h([0, 1])  # Apply Hadamard gates to initialize in superposition"
   ]
  },
  {
   "cell_type": "code",
   "execution_count": 7,
   "metadata": {},
   "outputs": [
    {
     "data": {
      "text/plain": [
       "<qiskit.circuit.instructionset.InstructionSet at 0x12002e500>"
      ]
     },
     "execution_count": 7,
     "metadata": {},
     "output_type": "execute_result"
    }
   ],
   "source": [
    "# Apply the oracle and diffusion operators\n",
    "oracle_circuit = oracle()\n",
    "diffusion_circuit = diffusion_operator()\n",
    "grover_operator = GroverOperator(oracle_circuit)\n",
    "\n",
    "qc.append(grover_operator, [0, 1])\n",
    "qc.append(diffusion_circuit, [0, 1])"
   ]
  },
  {
   "cell_type": "code",
   "execution_count": 8,
   "metadata": {},
   "outputs": [
    {
     "data": {
      "text/plain": [
       "<qiskit.circuit.instructionset.InstructionSet at 0x120286e00>"
      ]
     },
     "execution_count": 8,
     "metadata": {},
     "output_type": "execute_result"
    }
   ],
   "source": [
    "# Add measurements\n",
    "qc.measure([0, 1], [0, 1])"
   ]
  },
  {
   "cell_type": "code",
   "execution_count": 9,
   "metadata": {},
   "outputs": [
    {
     "data": {
      "image/png": "[encoded data removed]",
      "text/plain": [
       "<Figure size 621.739x284.278 with 1 Axes>"
      ]
     },
     "metadata": {},
     "output_type": "display_data"
    }
   ],
   "source": [
    "# Draw the circuit\n",
    "qc.draw('mpl')\n",
    "plt.show()"
   ]
  },
  {
   "cell_type": "code",
   "execution_count": 10,
   "metadata": {},
   "outputs": [],
   "source": [
    "# Use AerSimulator to simulate the circuit\n",
    "simulator = AerSimulator()\n",
    "qc = transpile(qc, simulator)\n",
    "result = simulator.run(qc, shots=1024).result()"
   ]
  },
  {
   "cell_type": "code",
   "execution_count": 11,
   "metadata": {},
   "outputs": [
    {
     "data": {
      "image/png": "[encoded data removed]",
      "text/plain": [
       "<Figure size 640x480 with 1 Axes>"
      ]
     },
     "metadata": {},
     "output_type": "display_data"
    }
   ],
   "source": [
    "# Get and plot the results\n",
    "counts = result.get_counts(qc)\n",
    "plot_histogram(counts)\n",
    "plt.show()"
   ]
  }
 ],
 "metadata": {
  "kernelspec": {
   "display_name": "qiskit",
   "language": "python",
   "name": "python3"
  },
  "language_info": {
   "codemirror_mode": {
    "name": "ipython",
    "version": 3
   },
   "file_extension": ".py",
   "mimetype": "text/x-python",
   "name": "python",
   "nbconvert_exporter": "python",
   "pygments_lexer": "ipython3",
   "version": "3.12.4"
  }
 },
 "nbformat": 4,
 "nbformat_minor": 2
}
