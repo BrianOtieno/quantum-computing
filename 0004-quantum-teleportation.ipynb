{
 "cells": [
  {
   "cell_type": "markdown",
   "metadata": {},
   "source": [
    "### Quantum Teleportation - Instantaneous Transfer of Information\n",
    "\n",
    "Quantum teleportation, one of the most fascinating applications of quantum mechanics, represents a fundamental breakthrough in the realm of quantum information science. It leverages the counterintuitive principles of quantum entanglement and superposition to transmit quantum states from one location to another, without physically moving the particles themselves. This process does not teleport the particle but rather its quantum state — the information embedded in the quantum system — from a sender (traditionally called Alice) to a receiver (Bob), with the help of a shared entangled pair.\n",
    "\n",
    "The teleportation process begins with Alice and Bob sharing an entangled pair of qubits. Entanglement is a quantum phenomenon where two or more particles become intertwined in such a way that the state of one particle is immediately correlated with the state of the other, no matter how far apart they are. Once this entangled pair is established, Alice can then teleport an unknown quantum state by performing a set of quantum operations.\n",
    "\n",
    "Alice starts by entangling the qubit she wants to teleport with her half of the entangled pair. She then performs a Bell-state measurement on her qubits. This measurement collapses the entangled state and effectively sends the information about the quantum state to Bob, though it’s encoded in classical bits. Alice sends these two classical bits to Bob via a traditional communication channel, instructing him on how to apply a set of operations (Pauli gates) to his qubit. Once Bob applies these operations, his qubit takes on the state of Alice’s original qubit, successfully completing the teleportation process.\n",
    "\n",
    "What makes this remarkable is that the quantum state transfer happens instantaneously due to the entanglement, but the classical information still needs to be transmitted at sub-light speeds, ensuring no faster-than-light communication occurs, preserving causality. The \"teleported\" state is destroyed in Alice’s system and recreated in Bob’s, ensuring that the quantum information is never duplicated, maintaining one of the key postulates of quantum mechanics, known as the no-cloning theorem.\n",
    "\n",
    "Quantum teleportation has broad implications for the future of quantum computing and quantum communication. It forms the backbone of quantum networks, enabling the secure transfer of quantum information across distances, paving the way for quantum cryptography, distributed quantum computing, and perhaps even future quantum internet architectures. Though not quite the teleportation we see in science fiction, it is a revolutionary step forward in the understanding and manipulation of quantum information.\n",
    "\n",
    "Here's a simple example in Qiskit to demonstrate quantum teleportation:"
   ]
  },
  {
   "cell_type": "markdown",
   "metadata": {},
   "source": [
    "Quantum teleportation is grounded in some of the most fundamental concepts of quantum mechanics: **entanglement**, **superposition**, and **measurement**. Below are some of the key mathematical concepts and steps behind the process:\n",
    "\n",
    "### 1. **Quantum States and Qubits**\n",
    "\n",
    "A qubit (quantum bit) is described by a superposition of the basis states \\( |0\\rangle \\) and \\( |1\\rangle \\):\n",
    "\n",
    "$$\n",
    "|\\psi\\rangle = \\alpha|0\\rangle + \\beta|1\\rangle\n",
    "$$\n",
    "\n",
    "where $ \\alpha $ and $ \\beta $ are complex numbers, and $ |\\alpha|^2 + |\\beta|^2 = 1 $. This qubit is the one we want to teleport.\n",
    "\n",
    "### 2. **Entanglement**\n",
    "\n",
    "Alice and Bob share an entangled pair of qubits, typically in the Bell state $ |\\Phi^+\\rangle $:\n",
    "\n",
    "$$\n",
    "|\\Phi^+\\rangle = \\frac{1}{\\sqrt{2}} \\left( |00\\rangle + |11\\rangle \\right)\n",
    "$$\n",
    "\n",
    "This state describes the entanglement between Alice's qubit $ A_2 $ and Bob's qubit $B $, where they are perfectly correlated.\n",
    "\n",
    "### 3. **Composite System**\n",
    "\n",
    "The overall state of the system is a three-qubit state consisting of Alice's qubit $ A_1 $ to be teleported, and the entangled pair $A_2B $. The combined state of the system is:\n",
    "\n",
    "$$\n",
    "|\\psi_{\\text{total}}\\rangle = |\\psi\\rangle \\otimes |\\Phi^+\\rangle\n",
    "$$\n",
    "\n",
    "Substituting $ |\\psi\\rangle = \\alpha|0\\rangle + \\beta|1\\rangle $ into this, we get:\n",
    "\n",
    "$$\n",
    "|\\psi_{\\text{total}}\\rangle = \\left( \\alpha|0\\rangle + \\beta|1\\rangle \\right) \\otimes \\frac{1}{\\sqrt{2}} \\left( |00\\rangle + |11\\rangle \\right)\n",
    "$$\n",
    "\n",
    "### 4. **Bell Measurement**\n",
    "\n",
    "Alice performs a Bell-state measurement on her two qubits $ A_1A_2 $. The measurement collapses the three-qubit system into one of the four Bell states. We can rewrite the total state $|\\psi_{\\text{total}}\\rangle $ in terms of these Bell states:\n",
    "\n",
    "$$\n",
    "|\\psi_{\\text{total}}\\rangle = \\frac{1}{2} \\left[ |\\Phi^+\\rangle_{A_1A_2} (\\alpha|0\\rangle_B + \\beta|1\\rangle_B) + |\\Phi^-\\rangle_{A_1A_2} (\\alpha|0\\rangle_B - \\beta|1\\rangle_B) + |\\Psi^+\\rangle_{A_1A_2} (\\beta|0\\rangle_B + \\alpha|1\\rangle_B) + |\\Psi^-\\rangle_{A_1A_2} (\\beta|0\\rangle_B - \\alpha|1\\rangle_B) \\right]\n",
    "$$\n",
    "\n",
    "This expresses the total state as a superposition of Alice's measurement results and Bob's qubit. Depending on the outcome of Alice's Bell measurement, Bob's qubit ends up in one of the four possible states.\n",
    "\n",
    "\n",
    "The teleportation process can be summarized in terms of the quantum state transformations and measurements:\n",
    "\n",
    "$$\n",
    "|\\psi\\rangle_{A_1} \\otimes |\\Phi^+\\rangle_{A_2B} \\rightarrow \\frac{1}{2} \\sum_{i,j} |\\text{Bell}_{ij}\\rangle_{A_1A_2} U_{ij}|\\psi\\rangle_B\n",
    "$$\n",
    "\n",
    "Here, $ U_{ij} $ represents the unitary operation Bob applies depending on the outcome of Alice’s Bell-state measurement $ |\\text{Bell}_{ij}\\rangle $."
   ]
  },
  {
   "cell_type": "code",
   "execution_count": 1,
   "metadata": {},
   "outputs": [],
   "source": [
    "from qiskit import QuantumCircuit, transpile\n",
    "from qiskit_aer import AerSimulator\n",
    "from qiskit.visualization import plot_histogram\n",
    "import matplotlib.pyplot as plt\n",
    "\n",
    "%matplotlib inline"
   ]
  },
  {
   "cell_type": "code",
   "execution_count": 2,
   "metadata": {},
   "outputs": [],
   "source": [
    "# Create a Quantum Circuit with 3 qubits and 3 classical bits\n",
    "qc = QuantumCircuit(3, 3)"
   ]
  },
  {
   "cell_type": "code",
   "execution_count": 3,
   "metadata": {},
   "outputs": [
    {
     "data": {
      "text/plain": [
       "<qiskit.circuit.instructionset.InstructionSet at 0x117c9a620>"
      ]
     },
     "execution_count": 3,
     "metadata": {},
     "output_type": "execute_result"
    }
   ],
   "source": [
    "# Step 1: Create an entangled pair between qubit 1 and qubit 2\n",
    "qc.h(1)\n",
    "qc.cx(1, 2)"
   ]
  },
  {
   "cell_type": "code",
   "execution_count": 4,
   "metadata": {},
   "outputs": [
    {
     "data": {
      "text/plain": [
       "<qiskit.circuit.instructionset.InstructionSet at 0x117cc63e0>"
      ]
     },
     "execution_count": 4,
     "metadata": {},
     "output_type": "execute_result"
    }
   ],
   "source": [
    "# Step 2: Prepare qubit 0 in the state to be teleported\n",
    "qc.x(0)"
   ]
  },
  {
   "cell_type": "code",
   "execution_count": 5,
   "metadata": {},
   "outputs": [
    {
     "data": {
      "text/plain": [
       "<qiskit.circuit.instructionset.InstructionSet at 0x1179a24d0>"
      ]
     },
     "execution_count": 5,
     "metadata": {},
     "output_type": "execute_result"
    }
   ],
   "source": [
    "# Step 3: Perform Bell measurement on qubit 0 and qubit 1\n",
    "qc.cx(0, 1)\n",
    "qc.h(0)\n",
    "qc.measure([0, 1], [0, 1])"
   ]
  },
  {
   "cell_type": "code",
   "execution_count": 6,
   "metadata": {},
   "outputs": [
    {
     "data": {
      "text/plain": [
       "<qiskit.circuit.instructionset.InstructionSet at 0x1053528f0>"
      ]
     },
     "execution_count": 6,
     "metadata": {},
     "output_type": "execute_result"
    }
   ],
   "source": [
    "# Step 4: Apply conditional operations based on the measurement outcomes\n",
    "qc.cx(1, 2)\n",
    "qc.cz(0, 2)"
   ]
  },
  {
   "cell_type": "code",
   "execution_count": 7,
   "metadata": {},
   "outputs": [
    {
     "data": {
      "text/plain": [
       "<qiskit.circuit.instructionset.InstructionSet at 0x117cc6590>"
      ]
     },
     "execution_count": 7,
     "metadata": {},
     "output_type": "execute_result"
    }
   ],
   "source": [
    "# Measure the teleported qubit\n",
    "qc.measure(2, 2)"
   ]
  },
  {
   "cell_type": "code",
   "execution_count": 8,
   "metadata": {},
   "outputs": [],
   "source": [
    "# Use the Qiskit Aer simulator to run the circuit\n",
    "simulator = AerSimulator()\n",
    "compiled_circuit = transpile(qc, simulator)\n",
    "result = simulator.run(compiled_circuit).result()"
   ]
  },
  {
   "cell_type": "code",
   "execution_count": 9,
   "metadata": {},
   "outputs": [
    {
     "name": "stdout",
     "output_type": "stream",
     "text": [
      "Counts: {'100': 259, '101': 255, '110': 251, '111': 259}\n"
     ]
    }
   ],
   "source": [
    "# Get the counts of outcomes\n",
    "counts = result.get_counts()\n",
    "print(\"Counts:\", counts)"
   ]
  },
  {
   "cell_type": "code",
   "execution_count": 10,
   "metadata": {},
   "outputs": [
    {
     "data": {
      "image/png": "[encoded data removed]",
      "text/plain": [
       "<Figure size 640x480 with 1 Axes>"
      ]
     },
     "metadata": {},
     "output_type": "display_data"
    }
   ],
   "source": [
    "# Visualize the results\n",
    "plot_histogram(counts)\n",
    "plt.show()"
   ]
  },
  {
   "cell_type": "code",
   "execution_count": 11,
   "metadata": {},
   "outputs": [
    {
     "data": {
      "image/png": "[encoded data removed]",
      "text/plain": [
       "<Figure size 789.163x367.889 with 1 Axes>"
      ]
     },
     "metadata": {},
     "output_type": "display_data"
    }
   ],
   "source": [
    "# Draw the circuit\n",
    "qc.draw('mpl') \n",
    "plt.show()"
   ]
  },
  {
   "cell_type": "markdown",
   "metadata": {},
   "source": [
    "In this example, we use three qubits. The first two qubits are entangled, creating a shared state. We then prepare the third qubit (qubit 0) in a state to be teleported. Through a series of operations and measurements, the state of qubit 0 is transferred to qubit 2."
   ]
  }
 ],
 "metadata": {
  "kernelspec": {
   "display_name": "qiskit",
   "language": "python",
   "name": "python3"
  },
  "language_info": {
   "codemirror_mode": {
    "name": "ipython",
    "version": 3
   },
   "file_extension": ".py",
   "mimetype": "text/x-python",
   "name": "python",
   "nbconvert_exporter": "python",
   "pygments_lexer": "ipython3",
   "version": "3.12.6"
  }
 },
 "nbformat": 4,
 "nbformat_minor": 2
}
