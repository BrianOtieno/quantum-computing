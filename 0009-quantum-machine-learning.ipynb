{
 "cells": [
  {
   "cell_type": "markdown",
   "metadata": {},
   "source": [
    "## Quantum Machine Learning\n",
    "\n",
    "Quantum Machine Learning combines quantum computing with machine learning algorithms to potentially solve complex problems more efficiently than classical algorithms. QML leverages the principles of quantum mechanics, such as superposition and entanglement, to enhance data processing capabilities.\n",
    "\n",
    "#### 🔍 Why is Quantum Machine Learning important?\n",
    "QML holds the promise of revolutionizing fields such as data science, artificial intelligence, and big data analytics by offering faster and more efficient ways to analyze vast datasets and uncover hidden patterns.\n",
    "\n",
    "One key application of QML is in the area of classification, where we can use quantum algorithms to distinguish between different classes of data. Today, we'll explore a basic quantum machine learning algorithm: the Quantum Support Vector Machine (QSVM).\n",
    "\n",
    "Below is a simple example in Qiskit to demonstrate a QSVM for binary classification.\n",
    "\n",
    "In this example, we use the Qiskit Machine Learning package to implement a Variational Quantum Classifier (VQC)."
   ]
  },
  {
   "cell_type": "markdown",
   "metadata": {},
   "source": [
    "##### Import necessary libraries"
   ]
  },
  {
   "cell_type": "code",
   "execution_count": 30,
   "metadata": {},
   "outputs": [],
   "source": [
    "# Import necessary libraries\n",
    "from qiskit import QuantumCircuit\n",
    "from qiskit.circuit.library import RealAmplitudes\n",
    "from qiskit.primitives import Sampler\n",
    "from qiskit_machine_learning.algorithms.classifiers import VQC\n",
    "from qiskit_machine_learning.datasets import ad_hoc_data\n",
    "from qiskit_aer import AerSimulator\n",
    "from qiskit_algorithms.optimizers import COBYLA\n",
    "import matplotlib.pyplot as plt\n",
    "from qiskit.circuit import ParameterVector\n",
    "import numpy as np\n",
    "\n",
    "%matplotlib inline"
   ]
  },
  {
   "cell_type": "markdown",
   "metadata": {},
   "source": [
    "##### Data Generation \n",
    "Here, we use the `ad_hoc_data ` function to generate synthetic data for a binary classification problem."
   ]
  },
  {
   "cell_type": "code",
   "execution_count": 31,
   "metadata": {},
   "outputs": [],
   "source": [
    "feature_dim = 2\n",
    "training_size = 20\n",
    "testing_size = 10\n",
    "\n",
    "training_features, training_labels, testing_features, testing_labels = ad_hoc_data(\n",
    "    training_size=training_size,\n",
    "    test_size=testing_size,\n",
    "    n=feature_dim,\n",
    "    gap=0.3,\n",
    "    plot_data=False\n",
    ")"
   ]
  },
  {
   "cell_type": "markdown",
   "metadata": {},
   "source": [
    "##### Process data\n"
   ]
  },
  {
   "cell_type": "code",
   "execution_count": 32,
   "metadata": {},
   "outputs": [],
   "source": [
    "# Ensure input data is in the correct format\n",
    "training_features = np.array(training_features)\n",
    "training_labels = np.array(training_labels)\n",
    "testing_features = np.array(testing_features)\n",
    "testing_labels = np.array(testing_labels)"
   ]
  },
  {
   "cell_type": "markdown",
   "metadata": {},
   "source": [
    "##### Feature map definition\n",
    "We define a feature map and a variational circuit using the  `ParameterVector ` circuit from Qiskit's circuit library."
   ]
  },
  {
   "cell_type": "code",
   "execution_count": 33,
   "metadata": {},
   "outputs": [],
   "source": [
    "# Define custom feature map and variational circuit\n",
    "def create_feature_map(feature_dim):\n",
    "    qc = QuantumCircuit(feature_dim)\n",
    "    feature_params = ParameterVector('x', feature_dim)\n",
    "    for i in range(feature_dim):\n",
    "        qc.rx(feature_params[i], i)\n",
    "    return qc\n",
    "\n",
    "def create_var_circuit(feature_dim):\n",
    "    qc = QuantumCircuit(feature_dim)\n",
    "    var_params = ParameterVector('θ', feature_dim)\n",
    "    for i in range(feature_dim):\n",
    "        qc.ry(var_params[i], i)\n",
    "    return qc\n",
    "\n",
    "feature_map = create_feature_map(feature_dim)\n",
    "var_circuit = create_var_circuit(feature_dim)"
   ]
  },
  {
   "cell_type": "markdown",
   "metadata": {},
   "source": [
    "##### Define Optimizer\n",
    "We use the `COBYLA `  optimizer from `qiskit_algorithms ` for training the variational circuit."
   ]
  },
  {
   "cell_type": "code",
   "execution_count": 34,
   "metadata": {},
   "outputs": [],
   "source": [
    "# Define optimizer\n",
    "optimizer = COBYLA(maxiter=100)"
   ]
  },
  {
   "cell_type": "markdown",
   "metadata": {},
   "source": [
    "##### Define  Sampler \n",
    "We use the `Sampler ` primitive to sample from the quantum circuits."
   ]
  },
  {
   "cell_type": "code",
   "execution_count": 35,
   "metadata": {},
   "outputs": [],
   "source": [
    "# Create Sampler primitive\n",
    "sampler = Sampler()"
   ]
  },
  {
   "cell_type": "markdown",
   "metadata": {},
   "source": [
    "##### Define  VQC"
   ]
  },
  {
   "cell_type": "code",
   "execution_count": 36,
   "metadata": {},
   "outputs": [],
   "source": [
    "# Define VQC\n",
    "vqc = VQC(\n",
    "    feature_map=feature_map,\n",
    "    ansatz=var_circuit,\n",
    "    optimizer=optimizer,\n",
    "    sampler=sampler\n",
    ")"
   ]
  },
  {
   "cell_type": "markdown",
   "metadata": {},
   "source": [
    "##### Train VQC\n",
    "The VQC is trained on the training data using the feature map and variational circuit."
   ]
  },
  {
   "cell_type": "code",
   "execution_count": 37,
   "metadata": {},
   "outputs": [
    {
     "data": {
      "text/plain": [
       "<qiskit_machine_learning.algorithms.classifiers.vqc.VQC at 0x12b2af680>"
      ]
     },
     "execution_count": 37,
     "metadata": {},
     "output_type": "execute_result"
    }
   ],
   "source": [
    "# Train VQC\n",
    "vqc.fit(training_features, training_labels)"
   ]
  },
  {
   "cell_type": "markdown",
   "metadata": {},
   "source": [
    "##### Predict\n",
    "The trained VQC predicts labels for the test data"
   ]
  },
  {
   "cell_type": "code",
   "execution_count": 38,
   "metadata": {},
   "outputs": [],
   "source": [
    "# Predict\n",
    "predicted_labels = vqc.predict(testing_features)"
   ]
  },
  {
   "cell_type": "markdown",
   "metadata": {},
   "source": [
    "##### Evaluate\n",
    "Calculate the accuracy of the model."
   ]
  },
  {
   "cell_type": "code",
   "execution_count": 39,
   "metadata": {},
   "outputs": [
    {
     "name": "stdout",
     "output_type": "stream",
     "text": [
      "Test Accuracy: 0.35\n"
     ]
    }
   ],
   "source": [
    "# Evaluate\n",
    "accuracy = vqc.score(testing_features, testing_labels)\n",
    "print(f\"Test Accuracy: {accuracy:.2f}\")"
   ]
  },
  {
   "cell_type": "markdown",
   "metadata": {},
   "source": [
    "#### Visualize decision boundary\n",
    "We visualize the training data used in the VQC."
   ]
  },
  {
   "cell_type": "code",
   "execution_count": 40,
   "metadata": {},
   "outputs": [
    {
     "data": {
      "image/png": "[encoded data removed]",
      "text/plain": [
       "<Figure size 500x500 with 1 Axes>"
      ]
     },
     "metadata": {},
     "output_type": "display_data"
    }
   ],
   "source": [
    "# Visualize the decision boundary\n",
    "plt.figure(figsize=(5, 5))\n",
    "for feature, label in zip(training_features, training_labels):\n",
    "    # Ensure label is a scalar by accessing the first element if it's an array\n",
    "    label = label[0] if isinstance(label, np.ndarray) else label\n",
    "    color = 'r' if label == 0 else 'b'\n",
    "    plt.scatter(feature[0], feature[1], c=color, marker='o')\n",
    "plt.title(\"Training Data\")\n",
    "plt.show()"
   ]
  },
  {
   "cell_type": "markdown",
   "metadata": {},
   "source": [
    "##### Visualize quantum circuit\n",
    "We visualize the quantum circuits used in the VQC."
   ]
  },
  {
   "cell_type": "code",
   "execution_count": 41,
   "metadata": {},
   "outputs": [
    {
     "name": "stdout",
     "output_type": "stream",
     "text": [
      "Feature Map Circuit:\n",
      "Variational Circuit:\n"
     ]
    },
    {
     "data": {
      "image/png": "[encoded data removed]",
      "text/plain": [
       "<Figure size 203.683x200.667 with 1 Axes>"
      ]
     },
     "execution_count": 41,
     "metadata": {},
     "output_type": "execute_result"
    },
    {
     "data": {
      "image/png": "[encoded data removed]",
      "text/plain": [
       "<Figure size 203.683x200.667 with 1 Axes>"
      ]
     },
     "metadata": {},
     "output_type": "display_data"
    },
    {
     "data": {
      "image/png": "[encoded data removed]",
      "text/plain": [
       "<Figure size 203.683x200.667 with 1 Axes>"
      ]
     },
     "metadata": {},
     "output_type": "display_data"
    }
   ],
   "source": [
    "# Visualize quantum circuits\n",
    "print(\"Feature Map Circuit:\")\n",
    "feature_map.decompose().draw('mpl') \n",
    "\n",
    "print(\"Variational Circuit:\")\n",
    "var_circuit.decompose().draw('mpl') "
   ]
  }
 ],
 "metadata": {
  "kernelspec": {
   "display_name": "qiskit",
   "language": "python",
   "name": "python3"
  },
  "language_info": {
   "codemirror_mode": {
    "name": "ipython",
    "version": 3
   },
   "file_extension": ".py",
   "mimetype": "text/x-python",
   "name": "python",
   "nbconvert_exporter": "python",
   "pygments_lexer": "ipython3",
   "version": "3.12.4"
  }
 },
 "nbformat": 4,
 "nbformat_minor": 2
}
