{
 "cells": [
  {
   "cell_type": "markdown",
   "metadata": {},
   "source": [
    "### Quantum Sensing\n",
    "\n",
    "Quantum sensing is an exciting field that harnesses the principles of quantum mechanics to achieve ultra-sensitive measurements. By utilizing phenomena like quantum entanglement and quantum superposition, quantum sensors can surpass the precision limits of classical sensors. This advanced sensing technology promises transformative impacts across numerous domains.\n",
    "\n",
    "Quantum sensors operate by exploiting the unique properties of quantum states. For instance, quantum entanglement allows sensors to detect minute changes in physical quantities with extreme precision. This is because entangled particles are interconnected such that the state of one instantaneously influences the state of another, regardless of the distance between them. This interconnectedness can be used to enhance the sensitivity of measurements.\n",
    "\n",
    "In navigation, quantum sensors can provide highly accurate positioning and timing information, which is crucial for autonomous vehicles, aircraft, and submarines. Traditional GPS systems, while accurate, can be compromised by interference or signal loss. Quantum sensors, however, can maintain accuracy even in challenging environments, providing a reliable alternative.\n",
    "\n",
    "Medical imaging is another area where quantum sensing holds significant promise. Techniques like magnetic resonance imaging (MRI) and positron emission tomography (PET) can benefit from quantum-enhanced sensors that offer higher resolution and sensitivity. This improvement can lead to earlier detection of diseases, more detailed images of tissues, and better monitoring of treatment progress.\n",
    "\n",
    "Gravitational wave detection is an emerging application of quantum sensing. Gravitational waves, ripples in spacetime caused by massive cosmic events like black hole mergers, require incredibly sensitive equipment to detect. Quantum sensors, with their heightened sensitivity, can detect these faint signals more accurately than classical sensors, opening new windows into our understanding of the universe.\n",
    "\n",
    "The advantages of quantum sensing are manifold. They include improved accuracy and precision, the ability to operate in environments where classical sensors fail, and the potential for new applications in scientific research and industry. As quantum technology advances, these sensors are expected to become more accessible and integrated into various technologies.\n",
    "\n",
    "In summary, quantum sensing represents a significant leap forward in measurement technology. Its ability to provide highly precise and accurate measurements opens up new possibilities in navigation, medical imaging, and gravitational wave detection. As research and development continue, quantum sensors are poised to revolutionize multiple fields, demonstrating the profound impact of quantum mechanics in practical applications."
   ]
  },
  {
   "cell_type": "markdown",
   "metadata": {},
   "source": [
    "Below are some of the notable formulaes for the steps for the demo code. I have also added Rabi Oscillations that you can further implement.\n",
    "\n",
    "#### 1. Superposition State Preparation\n",
    "A qubit in a superposition state can be represented by:\n",
    "$$ |\\psi\\rangle = \\frac{1}{\\sqrt{2}}(|0\\rangle + |1\\rangle) $$\n",
    "This state is created using the Hadamard gate $H$.\n",
    "\n",
    "#### 2. Phase Accumulation due to Magnetic Field\n",
    "The interaction of the qubit with a magnetic field can be modeled by a rotation around the Y-axis. If $\\theta$ is the angle of rotation, the state becomes:\n",
    "$$ |\\psi(\\theta)\\rangle = R_y(\\theta) |\\psi\\rangle $$\n",
    "where $R_y(\\theta) = e^{-i\\frac{\\theta}{2}Y}$.\n",
    "\n",
    "#### 3. Final State and Measurement\n",
    "After the interaction with the magnetic field, the final state of the qubit can be expressed as:\n",
    "$$ |\\psi_f\\rangle = H R_y(\\theta) H |\\psi\\rangle $$\n",
    "When measured in the computational basis, the probabilities $P(0)$ and $P(1)$ for outcomes $|0\\rangle$ and $|1\\rangle$ are:\n",
    "$$ P(0) = \\cos^2\\left(\\frac{\\theta}{2}\\right) $$\n",
    "$$ P(1) = \\sin^2\\left(\\frac{\\theta}{2}\\right) $$\n",
    "\n",
    "#### 4. Rabi Oscillations\n",
    "Rabi oscillations describe the oscillation of a qubit's state under the influence of a resonant driving field. The probability of finding the qubit in the $|0\\rangle$ state as a function of time (or the rotation angle $\\theta$) is given by:\n",
    "$$ P(0, t) = \\cos^2\\left(\\frac{\\Omega t}{2}\\right) $$\n",
    "where $\\Omega$ is the Rabi frequency.\n"
   ]
  },
  {
   "cell_type": "code",
   "execution_count": 1,
   "metadata": {},
   "outputs": [],
   "source": [
    "# Import necessary libraries\n",
    "from qiskit import QuantumCircuit, transpile\n",
    "from qiskit_aer import AerSimulator\n",
    "from qiskit.visualization import plot_histogram, plot_bloch_multivector\n",
    "import matplotlib.pyplot as plt\n",
    "import numpy as np\n",
    "\n",
    "%matplotlib inline"
   ]
  },
  {
   "cell_type": "code",
   "execution_count": 2,
   "metadata": {},
   "outputs": [],
   "source": [
    "# Function to create a quantum circuit for sensing a magnetic field\n",
    "def magnetic_field_sensor(theta):\n",
    "    # Create a quantum circuit with one qubit\n",
    "    qc = QuantumCircuit(1, 1)\n",
    "    \n",
    "    # Apply a Hadamard gate to create a superposition state\n",
    "    qc.h(0)\n",
    "    \n",
    "    # Apply a rotation around the Y-axis with an angle theta\n",
    "    qc.ry(theta, 0)\n",
    "    \n",
    "    # Apply another Hadamard gate\n",
    "    qc.h(0)\n",
    "    \n",
    "    # Measure the qubit\n",
    "    qc.measure(0, 0)\n",
    "    \n",
    "    return qc"
   ]
  },
  {
   "cell_type": "code",
   "execution_count": 3,
   "metadata": {},
   "outputs": [],
   "source": [
    "# Magnetic field parameter (theta) to be sensed\n",
    "theta = np.pi / 4  # Example: magnetic field strength"
   ]
  },
  {
   "cell_type": "code",
   "execution_count": 4,
   "metadata": {},
   "outputs": [],
   "source": [
    "# Create the quantum circuit\n",
    "qc = magnetic_field_sensor(theta)"
   ]
  },
  {
   "cell_type": "code",
   "execution_count": 5,
   "metadata": {},
   "outputs": [
    {
     "name": "stdout",
     "output_type": "stream",
     "text": [
      "Quantum Circuit for Magnetic Field Sensing:\n"
     ]
    },
    {
     "data": {
      "image/png": "[encoded data removed]",
      "text/plain": [
       "<Figure size 436.286x200.667 with 1 Axes>"
      ]
     },
     "metadata": {},
     "output_type": "display_data"
    }
   ],
   "source": [
    "# Draw the quantum circuit before compilation\n",
    "print(\"Quantum Circuit for Magnetic Field Sensing:\")\n",
    "qc.draw('mpl')\n",
    "plt.show()"
   ]
  },
  {
   "cell_type": "code",
   "execution_count": 6,
   "metadata": {},
   "outputs": [],
   "source": [
    "# Choose the simulator\n",
    "simulator = AerSimulator()"
   ]
  },
  {
   "cell_type": "code",
   "execution_count": 7,
   "metadata": {},
   "outputs": [],
   "source": [
    "# Transpile the circuit for the simulator\n",
    "compiled_circuit = transpile(qc, simulator)"
   ]
  },
  {
   "cell_type": "code",
   "execution_count": 8,
   "metadata": {},
   "outputs": [
    {
     "name": "stdout",
     "output_type": "stream",
     "text": [
      "\n",
      "Compiled Quantum Circuit for Magnetic Field Sensing:\n"
     ]
    },
    {
     "data": {
      "image/png": "[encoded data removed]",
      "text/plain": [
       "<Figure size 352.675x200.667 with 1 Axes>"
      ]
     },
     "metadata": {},
     "output_type": "display_data"
    }
   ],
   "source": [
    " # Draw the quantum circuit after compilation\n",
    "print(\"\\nCompiled Quantum Circuit for Magnetic Field Sensing:\")\n",
    "compiled_circuit.draw('mpl')\n",
    "plt.show()"
   ]
  },
  {
   "cell_type": "code",
   "execution_count": 9,
   "metadata": {},
   "outputs": [],
   "source": [
    "# Simulate the circuit\n",
    "result = simulator.run(compiled_circuit, shots=1000).result()"
   ]
  },
  {
   "cell_type": "code",
   "execution_count": 10,
   "metadata": {},
   "outputs": [
    {
     "name": "stdout",
     "output_type": "stream",
     "text": [
      "\n",
      "Measurement results (counts):\n",
      "{'1': 157, '0': 843}\n"
     ]
    }
   ],
   "source": [
    "# Extract the counts (measurement results)\n",
    "counts = result.get_counts()\n",
    "print(\"\\nMeasurement results (counts):\")\n",
    "print(counts)"
   ]
  },
  {
   "cell_type": "code",
   "execution_count": 11,
   "metadata": {},
   "outputs": [
    {
     "data": {
      "image/png": "[encoded data removed]",
      "text/plain": [
       "<Figure size 640x480 with 1 Axes>"
      ]
     },
     "metadata": {},
     "output_type": "display_data"
    }
   ],
   "source": [
    "\n",
    "# Plot the histogram of the results\n",
    "plot_histogram(counts)\n",
    "plt.show()"
   ]
  }
 ],
 "metadata": {
  "kernelspec": {
   "display_name": "qiskit",
   "language": "python",
   "name": "python3"
  },
  "language_info": {
   "codemirror_mode": {
    "name": "ipython",
    "version": 3
   },
   "file_extension": ".py",
   "mimetype": "text/x-python",
   "name": "python",
   "nbconvert_exporter": "python",
   "pygments_lexer": "ipython3",
   "version": "3.12.4"
  }
 },
 "nbformat": 4,
 "nbformat_minor": 2
}
